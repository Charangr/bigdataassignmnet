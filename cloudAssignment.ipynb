{
  "nbformat": 4,
  "nbformat_minor": 0,
  "metadata": {
    "colab": {
      "provenance": [],
      "authorship_tag": "ABX9TyOZVtxXbfkZ3wc8iNPlBmor",
      "include_colab_link": true
    },
    "kernelspec": {
      "name": "python3",
      "display_name": "Python 3"
    },
    "language_info": {
      "name": "python"
    }
  },
  "cells": [
    {
      "cell_type": "markdown",
      "metadata": {
        "id": "view-in-github",
        "colab_type": "text"
      },
      "source": [
        "<a href=\"https://colab.research.google.com/github/Charangr/bigdataassignmnet/blob/main/cloudAssignment.ipynb\" target=\"_parent\"><img src=\"https://colab.research.google.com/assets/colab-badge.svg\" alt=\"Open In Colab\"/></a>"
      ]
    },
    {
      "cell_type": "code",
      "execution_count": 50,
      "metadata": {
        "colab": {
          "base_uri": "https://localhost:8080/",
          "height": 90
        },
        "id": "6LmvPUfWxy5m",
        "outputId": "d23dc231-da0d-4f22-bea0-c48892bd702f"
      },
      "outputs": [
        {
          "output_type": "display_data",
          "data": {
            "text/plain": [
              "<IPython.core.display.HTML object>"
            ],
            "text/html": [
              "\n",
              "     <input type=\"file\" id=\"files-8bc694ab-821f-4e40-a50a-c25829b8edc3\" name=\"files[]\" multiple disabled\n",
              "        style=\"border:none\" />\n",
              "     <output id=\"result-8bc694ab-821f-4e40-a50a-c25829b8edc3\">\n",
              "      Upload widget is only available when the cell has been executed in the\n",
              "      current browser session. Please rerun this cell to enable.\n",
              "      </output>\n",
              "      <script>// Copyright 2017 Google LLC\n",
              "//\n",
              "// Licensed under the Apache License, Version 2.0 (the \"License\");\n",
              "// you may not use this file except in compliance with the License.\n",
              "// You may obtain a copy of the License at\n",
              "//\n",
              "//      http://www.apache.org/licenses/LICENSE-2.0\n",
              "//\n",
              "// Unless required by applicable law or agreed to in writing, software\n",
              "// distributed under the License is distributed on an \"AS IS\" BASIS,\n",
              "// WITHOUT WARRANTIES OR CONDITIONS OF ANY KIND, either express or implied.\n",
              "// See the License for the specific language governing permissions and\n",
              "// limitations under the License.\n",
              "\n",
              "/**\n",
              " * @fileoverview Helpers for google.colab Python module.\n",
              " */\n",
              "(function(scope) {\n",
              "function span(text, styleAttributes = {}) {\n",
              "  const element = document.createElement('span');\n",
              "  element.textContent = text;\n",
              "  for (const key of Object.keys(styleAttributes)) {\n",
              "    element.style[key] = styleAttributes[key];\n",
              "  }\n",
              "  return element;\n",
              "}\n",
              "\n",
              "// Max number of bytes which will be uploaded at a time.\n",
              "const MAX_PAYLOAD_SIZE = 100 * 1024;\n",
              "\n",
              "function _uploadFiles(inputId, outputId) {\n",
              "  const steps = uploadFilesStep(inputId, outputId);\n",
              "  const outputElement = document.getElementById(outputId);\n",
              "  // Cache steps on the outputElement to make it available for the next call\n",
              "  // to uploadFilesContinue from Python.\n",
              "  outputElement.steps = steps;\n",
              "\n",
              "  return _uploadFilesContinue(outputId);\n",
              "}\n",
              "\n",
              "// This is roughly an async generator (not supported in the browser yet),\n",
              "// where there are multiple asynchronous steps and the Python side is going\n",
              "// to poll for completion of each step.\n",
              "// This uses a Promise to block the python side on completion of each step,\n",
              "// then passes the result of the previous step as the input to the next step.\n",
              "function _uploadFilesContinue(outputId) {\n",
              "  const outputElement = document.getElementById(outputId);\n",
              "  const steps = outputElement.steps;\n",
              "\n",
              "  const next = steps.next(outputElement.lastPromiseValue);\n",
              "  return Promise.resolve(next.value.promise).then((value) => {\n",
              "    // Cache the last promise value to make it available to the next\n",
              "    // step of the generator.\n",
              "    outputElement.lastPromiseValue = value;\n",
              "    return next.value.response;\n",
              "  });\n",
              "}\n",
              "\n",
              "/**\n",
              " * Generator function which is called between each async step of the upload\n",
              " * process.\n",
              " * @param {string} inputId Element ID of the input file picker element.\n",
              " * @param {string} outputId Element ID of the output display.\n",
              " * @return {!Iterable<!Object>} Iterable of next steps.\n",
              " */\n",
              "function* uploadFilesStep(inputId, outputId) {\n",
              "  const inputElement = document.getElementById(inputId);\n",
              "  inputElement.disabled = false;\n",
              "\n",
              "  const outputElement = document.getElementById(outputId);\n",
              "  outputElement.innerHTML = '';\n",
              "\n",
              "  const pickedPromise = new Promise((resolve) => {\n",
              "    inputElement.addEventListener('change', (e) => {\n",
              "      resolve(e.target.files);\n",
              "    });\n",
              "  });\n",
              "\n",
              "  const cancel = document.createElement('button');\n",
              "  inputElement.parentElement.appendChild(cancel);\n",
              "  cancel.textContent = 'Cancel upload';\n",
              "  const cancelPromise = new Promise((resolve) => {\n",
              "    cancel.onclick = () => {\n",
              "      resolve(null);\n",
              "    };\n",
              "  });\n",
              "\n",
              "  // Wait for the user to pick the files.\n",
              "  const files = yield {\n",
              "    promise: Promise.race([pickedPromise, cancelPromise]),\n",
              "    response: {\n",
              "      action: 'starting',\n",
              "    }\n",
              "  };\n",
              "\n",
              "  cancel.remove();\n",
              "\n",
              "  // Disable the input element since further picks are not allowed.\n",
              "  inputElement.disabled = true;\n",
              "\n",
              "  if (!files) {\n",
              "    return {\n",
              "      response: {\n",
              "        action: 'complete',\n",
              "      }\n",
              "    };\n",
              "  }\n",
              "\n",
              "  for (const file of files) {\n",
              "    const li = document.createElement('li');\n",
              "    li.append(span(file.name, {fontWeight: 'bold'}));\n",
              "    li.append(span(\n",
              "        `(${file.type || 'n/a'}) - ${file.size} bytes, ` +\n",
              "        `last modified: ${\n",
              "            file.lastModifiedDate ? file.lastModifiedDate.toLocaleDateString() :\n",
              "                                    'n/a'} - `));\n",
              "    const percent = span('0% done');\n",
              "    li.appendChild(percent);\n",
              "\n",
              "    outputElement.appendChild(li);\n",
              "\n",
              "    const fileDataPromise = new Promise((resolve) => {\n",
              "      const reader = new FileReader();\n",
              "      reader.onload = (e) => {\n",
              "        resolve(e.target.result);\n",
              "      };\n",
              "      reader.readAsArrayBuffer(file);\n",
              "    });\n",
              "    // Wait for the data to be ready.\n",
              "    let fileData = yield {\n",
              "      promise: fileDataPromise,\n",
              "      response: {\n",
              "        action: 'continue',\n",
              "      }\n",
              "    };\n",
              "\n",
              "    // Use a chunked sending to avoid message size limits. See b/62115660.\n",
              "    let position = 0;\n",
              "    do {\n",
              "      const length = Math.min(fileData.byteLength - position, MAX_PAYLOAD_SIZE);\n",
              "      const chunk = new Uint8Array(fileData, position, length);\n",
              "      position += length;\n",
              "\n",
              "      const base64 = btoa(String.fromCharCode.apply(null, chunk));\n",
              "      yield {\n",
              "        response: {\n",
              "          action: 'append',\n",
              "          file: file.name,\n",
              "          data: base64,\n",
              "        },\n",
              "      };\n",
              "\n",
              "      let percentDone = fileData.byteLength === 0 ?\n",
              "          100 :\n",
              "          Math.round((position / fileData.byteLength) * 100);\n",
              "      percent.textContent = `${percentDone}% done`;\n",
              "\n",
              "    } while (position < fileData.byteLength);\n",
              "  }\n",
              "\n",
              "  // All done.\n",
              "  yield {\n",
              "    response: {\n",
              "      action: 'complete',\n",
              "    }\n",
              "  };\n",
              "}\n",
              "\n",
              "scope.google = scope.google || {};\n",
              "scope.google.colab = scope.google.colab || {};\n",
              "scope.google.colab._files = {\n",
              "  _uploadFiles,\n",
              "  _uploadFilesContinue,\n",
              "};\n",
              "})(self);\n",
              "</script> "
            ]
          },
          "metadata": {}
        },
        {
          "output_type": "stream",
          "name": "stdout",
          "text": [
            "Saving kaggle.json to kaggle (2).json\n"
          ]
        },
        {
          "output_type": "execute_result",
          "data": {
            "text/plain": [
              "{'kaggle (2).json': b'{\"username\":\"charan1234444444432\",\"key\":\"185ff62cc4d845bf7ed233291684cd5f\"}'}"
            ]
          },
          "metadata": {},
          "execution_count": 50
        }
      ],
      "source": [
        "from google.colab import files\n",
        "files.upload()\n"
      ]
    },
    {
      "cell_type": "markdown",
      "source": [
        "using kaggle API"
      ],
      "metadata": {
        "id": "32TeTCRcev7f"
      }
    },
    {
      "cell_type": "code",
      "source": [
        "import os\n",
        "\n",
        "# Create .kaggle directory and copy the token file\n",
        "!mkdir -p ~/.kaggle\n",
        "!cp kaggle.json ~/.kaggle/\n",
        "!chmod 600 ~/.kaggle/kaggle.json\n"
      ],
      "metadata": {
        "id": "3iMPfA07zn4M"
      },
      "execution_count": 51,
      "outputs": []
    },
    {
      "cell_type": "code",
      "source": [
        "\n",
        "!pip install kaggle\n",
        "!kaggle datasets download -d arvindnagaonkar/flight-delay\n",
        "!unzip flight-delay.zip\n"
      ],
      "metadata": {
        "colab": {
          "base_uri": "https://localhost:8080/"
        },
        "id": "jnpB8DBIzvjR",
        "outputId": "a90eca43-e7d8-4589-824b-2e245064fcfc"
      },
      "execution_count": 52,
      "outputs": [
        {
          "output_type": "stream",
          "name": "stdout",
          "text": [
            "Requirement already satisfied: kaggle in /usr/local/lib/python3.10/dist-packages (1.6.17)\n",
            "Requirement already satisfied: six>=1.10 in /usr/local/lib/python3.10/dist-packages (from kaggle) (1.17.0)\n",
            "Requirement already satisfied: certifi>=2023.7.22 in /usr/local/lib/python3.10/dist-packages (from kaggle) (2024.12.14)\n",
            "Requirement already satisfied: python-dateutil in /usr/local/lib/python3.10/dist-packages (from kaggle) (2.8.2)\n",
            "Requirement already satisfied: requests in /usr/local/lib/python3.10/dist-packages (from kaggle) (2.32.3)\n",
            "Requirement already satisfied: tqdm in /usr/local/lib/python3.10/dist-packages (from kaggle) (4.67.1)\n",
            "Requirement already satisfied: python-slugify in /usr/local/lib/python3.10/dist-packages (from kaggle) (8.0.4)\n",
            "Requirement already satisfied: urllib3 in /usr/local/lib/python3.10/dist-packages (from kaggle) (2.2.3)\n",
            "Requirement already satisfied: bleach in /usr/local/lib/python3.10/dist-packages (from kaggle) (6.2.0)\n",
            "Requirement already satisfied: webencodings in /usr/local/lib/python3.10/dist-packages (from bleach->kaggle) (0.5.1)\n",
            "Requirement already satisfied: text-unidecode>=1.3 in /usr/local/lib/python3.10/dist-packages (from python-slugify->kaggle) (1.3)\n",
            "Requirement already satisfied: charset-normalizer<4,>=2 in /usr/local/lib/python3.10/dist-packages (from requests->kaggle) (3.4.0)\n",
            "Requirement already satisfied: idna<4,>=2.5 in /usr/local/lib/python3.10/dist-packages (from requests->kaggle) (3.10)\n",
            "Dataset URL: https://www.kaggle.com/datasets/arvindnagaonkar/flight-delay\n",
            "License(s): CC0-1.0\n",
            "flight-delay.zip: Skipping, found more recently modified local copy (use --force to force download)\n",
            "Archive:  flight-delay.zip\n",
            "replace Flight_Delay.parquet? [y]es, [n]o, [A]ll, [N]one, [r]ename: y\n",
            "  inflating: Flight_Delay.parquet    y\n",
            "\n",
            "replace features_added.parquet? [y]es, [n]o, [A]ll, [N]one, [r]ename:   inflating: features_added.parquet  a\n",
            "A\n",
            "\n",
            "\n"
          ]
        }
      ]
    },
    {
      "cell_type": "markdown",
      "source": [
        "Driver:\n",
        "\n",
        "The driver (allocated 1 core and 2 GB memory) orchestrates the execution plan.\n",
        "It sends tasks to the executors for distributed computation.\n",
        "Executors:\n",
        "\n",
        "Each of the 4 executors gets 5 GB of memory and 3 cores.\n",
        "Executors perform the actual transformations and actions on the data in parallel.\n",
        "Parallelism:\n",
        "\n",
        "With 4 executors, each using 3 cores, your application can run up to 12 tasks concurrently.**bold text**"
      ],
      "metadata": {
        "id": "ySaLz1hnK8P0"
      }
    },
    {
      "cell_type": "code",
      "source": [
        "from pyspark.sql import SparkSession\n",
        "from pyspark.sql.functions import col, lit, expr, concat, sum as _sum\n",
        "from pyspark.sql.types import DateType\n",
        "\n",
        "\n",
        "spark = SparkSession.builder \\\n",
        "    .appName(\"Flight Delay Analysis\") \\\n",
        "    .master(\"local[*]\") \\\n",
        "    .config(\"spark.executor.memory\", \"5g\") \\\n",
        "    .config(\"spark.executor.cores\", \"3\") \\\n",
        "    .config(\"spark.executor.instances\", \"4\") \\\n",
        "    .config(\"spark.driver.memory\", \"2g\") \\\n",
        "    .config(\"spark.driver.cores\", \"1\") \\\n",
        "    .config(\"spark.sql.debug.maxToStringFields\", \"100\") \\\n",
        "    .getOrCreate()\n",
        "\n",
        "\n",
        "spark.sparkContext.getConf().getAll()\n"
      ],
      "metadata": {
        "colab": {
          "base_uri": "https://localhost:8080/"
        },
        "id": "U0742P-x0TcT",
        "outputId": "33939e56-5d1e-46ff-84a3-9754b0060e9a"
      },
      "execution_count": 53,
      "outputs": [
        {
          "output_type": "execute_result",
          "data": {
            "text/plain": [
              "[('spark.executor.instances', '4'),\n",
              " ('spark.driver.extraJavaOptions',\n",
              "  '-Djava.net.preferIPv6Addresses=false -XX:+IgnoreUnrecognizedVMOptions --add-opens=java.base/java.lang=ALL-UNNAMED --add-opens=java.base/java.lang.invoke=ALL-UNNAMED --add-opens=java.base/java.lang.reflect=ALL-UNNAMED --add-opens=java.base/java.io=ALL-UNNAMED --add-opens=java.base/java.net=ALL-UNNAMED --add-opens=java.base/java.nio=ALL-UNNAMED --add-opens=java.base/java.util=ALL-UNNAMED --add-opens=java.base/java.util.concurrent=ALL-UNNAMED --add-opens=java.base/java.util.concurrent.atomic=ALL-UNNAMED --add-opens=java.base/jdk.internal.ref=ALL-UNNAMED --add-opens=java.base/sun.nio.ch=ALL-UNNAMED --add-opens=java.base/sun.nio.cs=ALL-UNNAMED --add-opens=java.base/sun.security.action=ALL-UNNAMED --add-opens=java.base/sun.util.calendar=ALL-UNNAMED --add-opens=java.security.jgss/sun.security.krb5=ALL-UNNAMED -Djdk.reflect.useDirectMethodHandle=false'),\n",
              " ('spark.executor.id', 'driver'),\n",
              " ('spark.app.name', 'Flight Delay Analysis'),\n",
              " ('spark.executor.memory', '5g'),\n",
              " ('spark.sql.warehouse.dir', 'file:/content/spark-warehouse'),\n",
              " ('spark.app.startTime', '1734575394455'),\n",
              " ('spark.driver.host', 'f3cda0bb903a'),\n",
              " ('spark.sql.debug.maxToStringFields', '100'),\n",
              " ('spark.rdd.compress', 'True'),\n",
              " ('spark.driver.port', '36081'),\n",
              " ('spark.executor.extraJavaOptions',\n",
              "  '-Djava.net.preferIPv6Addresses=false -XX:+IgnoreUnrecognizedVMOptions --add-opens=java.base/java.lang=ALL-UNNAMED --add-opens=java.base/java.lang.invoke=ALL-UNNAMED --add-opens=java.base/java.lang.reflect=ALL-UNNAMED --add-opens=java.base/java.io=ALL-UNNAMED --add-opens=java.base/java.net=ALL-UNNAMED --add-opens=java.base/java.nio=ALL-UNNAMED --add-opens=java.base/java.util=ALL-UNNAMED --add-opens=java.base/java.util.concurrent=ALL-UNNAMED --add-opens=java.base/java.util.concurrent.atomic=ALL-UNNAMED --add-opens=java.base/jdk.internal.ref=ALL-UNNAMED --add-opens=java.base/sun.nio.ch=ALL-UNNAMED --add-opens=java.base/sun.nio.cs=ALL-UNNAMED --add-opens=java.base/sun.security.action=ALL-UNNAMED --add-opens=java.base/sun.util.calendar=ALL-UNNAMED --add-opens=java.security.jgss/sun.security.krb5=ALL-UNNAMED -Djdk.reflect.useDirectMethodHandle=false'),\n",
              " ('spark.driver.memory', '2g'),\n",
              " ('spark.app.id', 'local-1734575396518'),\n",
              " ('spark.serializer.objectStreamReset', '100'),\n",
              " ('spark.master', 'local[*]'),\n",
              " ('spark.submit.pyFiles', ''),\n",
              " ('spark.executor.cores', '3'),\n",
              " ('spark.submit.deployMode', 'client'),\n",
              " ('spark.ui.showConsoleProgress', 'true'),\n",
              " ('spark.driver.cores', '1'),\n",
              " ('spark.app.submitTime', '1734575394133')]"
            ]
          },
          "metadata": {},
          "execution_count": 53
        }
      ]
    },
    {
      "cell_type": "code",
      "source": [
        "\n",
        "data_path = \"Flight_Delay.parquet\"\n",
        "df = spark.read.parquet(data_path)\n",
        "\n",
        "\n",
        "total_rows = df.count()\n",
        "print(f\"Total Rows in Dataset: {total_rows}\")"
      ],
      "metadata": {
        "colab": {
          "base_uri": "https://localhost:8080/"
        },
        "id": "CNuwhpIqAQ5f",
        "outputId": "d294cd76-7c3d-4b5e-d93f-9a3a31b87278"
      },
      "execution_count": 54,
      "outputs": [
        {
          "output_type": "stream",
          "name": "stdout",
          "text": [
            "Total Rows in Dataset: 30132672\n"
          ]
        }
      ]
    },
    {
      "cell_type": "code",
      "source": [
        "\n",
        "dataset_path = \"/content/Flight_Delay.parquet\"\n",
        "features_path = \"/content/features_added.parquet\"\n",
        "\n",
        "\n",
        "flight_delay_df = spark.read.parquet(dataset_path)\n",
        "features_added_df = spark.read.parquet(features_path)\n",
        "\n",
        "\n",
        "flight_delay_df.show(5)\n",
        "features_added_df.show(5)\n"
      ],
      "metadata": {
        "colab": {
          "base_uri": "https://localhost:8080/"
        },
        "id": "GVuhCogR0ZNH",
        "outputId": "e7168945-11aa-4481-f79f-2cfabbc3c65c"
      },
      "execution_count": 55,
      "outputs": [
        {
          "output_type": "stream",
          "name": "stdout",
          "text": [
            "+----+-----+----------+----------+-------------------------+--------------+--------------+----------+-------+--------+---------------+-------+---------+--------+------+----------+-------+--------+---------------+--------------+-----------------+-------+--------+-------------+------------+------------+--------+-------------+-----------------+-----------------+\n",
            "|Year|Month|DayofMonth|FlightDate|Marketing_Airline_Network|OriginCityName|  DestCityName|CRSDepTime|DepTime|DepDelay|DepDelayMinutes|TaxiOut|WheelsOff|WheelsOn|TaxiIn|CRSArrTime|ArrTime|ArrDelay|ArrDelayMinutes|CRSElapsedTime|ActualElapsedTime|AirTime|Distance|DistanceGroup|CarrierDelay|WeatherDelay|NASDelay|SecurityDelay|LateAircraftDelay|__index_level_0__|\n",
            "+----+-----+----------+----------+-------------------------+--------------+--------------+----------+-------+--------+---------------+-------+---------+--------+------+----------+-------+--------+---------------+--------------+-----------------+-------+--------+-------------+------------+------------+--------+-------------+-----------------+-----------------+\n",
            "|2018|    1|        15|2018-01-15|                       UA|    Newark, NJ|Charleston, SC|      1845| 1928.0|    43.0|           43.0|   35.0|   2003.0|  2145.0|   4.0|      2108| 2149.0|    41.0|           41.0|         143.0|            141.0|  102.0|   628.0|            3|        41.0|         0.0|     0.0|          0.0|              0.0|                1|\n",
            "|2018|    1|        16|2018-01-16|                       UA|    Newark, NJ|Charleston, SC|      1835| 1956.0|    81.0|           81.0|   18.0|   2014.0|  2202.0|   5.0|      2058| 2207.0|    69.0|           69.0|         143.0|            131.0|  108.0|   628.0|            3|        67.0|         0.0|     0.0|          0.0|              2.0|                2|\n",
            "|2018|    1|        17|2018-01-17|                       UA|    Newark, NJ|Charleston, SC|      1835| 1836.0|     1.0|            1.0|   19.0|   1855.0|  2048.0|   6.0|      2058| 2054.0|    -4.0|            0.0|         143.0|            138.0|  113.0|   628.0|            3|         0.0|         0.0|     0.0|          0.0|              0.0|                3|\n",
            "|2018|    1|        18|2018-01-18|                       UA|    Newark, NJ|Charleston, SC|      1845| 1844.0|    -1.0|            0.0|   36.0|   1920.0|  2052.0|   6.0|      2108| 2058.0|   -10.0|            0.0|         143.0|            134.0|   92.0|   628.0|            3|         0.0|         0.0|     0.0|          0.0|              0.0|                4|\n",
            "|2018|    1|        20|2018-01-20|                       UA|    Newark, NJ|Charleston, SC|      1835| 1829.0|    -6.0|            0.0|   22.0|   1851.0|  2020.0|   6.0|      2058| 2026.0|   -32.0|            0.0|         143.0|            117.0|   89.0|   628.0|            3|         0.0|         0.0|     0.0|          0.0|              0.0|                6|\n",
            "+----+-----+----------+----------+-------------------------+--------------+--------------+----------+-------+--------+---------------+-------+---------+--------+------+----------+-------+--------+---------------+--------------+-----------------+-------+--------+-------------+------------+------------+--------+-------------+-----------------+-----------------+\n",
            "only showing top 5 rows\n",
            "\n",
            "+----+-----+----------+-------------------+-------------------------+--------------+--------------+-------+--------+---------------+-------+------+-------+--------+---------------+--------------+-----------------+-------+--------+-------------+------------+------------+--------+-------------+-----------------+---------+--------+----------------+--------------+---------------+-------------+----------------+--------------+--------------+------------+-----------------+----------------+-----------------+---------------+-------------------+-----------------+\n",
            "|Year|Month|DayofMonth|         FlightDate|Marketing_Airline_Network|OriginCityName|  DestCityName|DepTime|DepDelay|DepDelayMinutes|TaxiOut|TaxiIn|ArrTime|ArrDelay|ArrDelayMinutes|CRSElapsedTime|ActualElapsedTime|AirTime|Distance|DistanceGroup|CarrierDelay|WeatherDelay|NASDelay|SecurityDelay|LateAircraftDelay|DayofWeek|Holidays|CRSDepTimeMinute|CRSDepTimeHour|WheelsOffMinute|WheelsOffHour|CRSArrTimeMinute|CRSArrTimeHour|WheelsOnMinute|WheelsOnHour|CRSDepTimeHourDis|WheelsOffHourDis|CRSArrTimeHourDis|WheelsOnHourDis|CRSElapsedTimeGorup|__index_level_0__|\n",
            "+----+-----+----------+-------------------+-------------------------+--------------+--------------+-------+--------+---------------+-------+------+-------+--------+---------------+--------------+-----------------+-------+--------+-------------+------------+------------+--------+-------------+-----------------+---------+--------+----------------+--------------+---------------+-------------+----------------+--------------+--------------+------------+-----------------+----------------+-----------------+---------------+-------------------+-----------------+\n",
            "|2018|    1|        15|2018-01-15 00:00:00|                       UA|    Newark, NJ|Charleston, SC| 1928.0|    43.0|           43.0|   35.0|   4.0| 2149.0|    41.0|           41.0|         143.0|            141.0|  102.0|   628.0|            3|        41.0|         0.0|     0.0|          0.0|              0.0|        0|    true|              45|            18|              3|           20|               8|            21|            45|          21|          Evening|         Evening|            Night|          Night|                  3|                1|\n",
            "|2018|    1|        16|2018-01-16 00:00:00|                       UA|    Newark, NJ|Charleston, SC| 1956.0|    81.0|           81.0|   18.0|   5.0| 2207.0|    69.0|           69.0|         143.0|            131.0|  108.0|   628.0|            3|        67.0|         0.0|     0.0|          0.0|              2.0|        1|   false|              35|            18|             14|           20|              58|            20|             2|          22|          Evening|         Evening|          Evening|          Night|                  3|                2|\n",
            "|2018|    1|        17|2018-01-17 00:00:00|                       UA|    Newark, NJ|Charleston, SC| 1836.0|     1.0|            1.0|   19.0|   6.0| 2054.0|    -4.0|            0.0|         143.0|            138.0|  113.0|   628.0|            3|         0.0|         0.0|     0.0|          0.0|              0.0|        2|   false|              35|            18|             55|           18|              58|            20|            48|          20|          Evening|         Evening|          Evening|        Evening|                  3|                3|\n",
            "|2018|    1|        18|2018-01-18 00:00:00|                       UA|    Newark, NJ|Charleston, SC| 1844.0|    -1.0|            0.0|   36.0|   6.0| 2058.0|   -10.0|            0.0|         143.0|            134.0|   92.0|   628.0|            3|         0.0|         0.0|     0.0|          0.0|              0.0|        3|   false|              45|            18|             20|           19|               8|            21|            52|          20|          Evening|         Evening|            Night|        Evening|                  3|                4|\n",
            "|2018|    1|        20|2018-01-20 00:00:00|                       UA|    Newark, NJ|Charleston, SC| 1829.0|    -6.0|            0.0|   22.0|   6.0| 2026.0|   -32.0|            0.0|         143.0|            117.0|   89.0|   628.0|            3|         0.0|         0.0|     0.0|          0.0|              0.0|        5|   false|              35|            18|             51|           18|              58|            20|            20|          20|          Evening|         Evening|          Evening|        Evening|                  3|                6|\n",
            "+----+-----+----------+-------------------+-------------------------+--------------+--------------+-------+--------+---------------+-------+------+-------+--------+---------------+--------------+-----------------+-------+--------+-------------+------------+------------+--------+-------------+-----------------+---------+--------+----------------+--------------+---------------+-------------+----------------+--------------+--------------+------------+-----------------+----------------+-----------------+---------------+-------------------+-----------------+\n",
            "only showing top 5 rows\n",
            "\n"
          ]
        }
      ]
    },
    {
      "cell_type": "code",
      "source": [
        "sample_fraction = 0.020\n",
        "sampled_df = df.sample(fraction=sample_fraction, seed=42)"
      ],
      "metadata": {
        "id": "NzcUM4kZARGi"
      },
      "execution_count": 56,
      "outputs": []
    },
    {
      "cell_type": "code",
      "source": [
        "sampled_count = sampled_df.count()\n",
        "print(f\"Sampled Row Count: {sampled_count}\")"
      ],
      "metadata": {
        "colab": {
          "base_uri": "https://localhost:8080/"
        },
        "id": "BN4k0KqWARRz",
        "outputId": "d2f39a74-e382-40f7-d873-a357bfe4c502"
      },
      "execution_count": 57,
      "outputs": [
        {
          "output_type": "stream",
          "name": "stdout",
          "text": [
            "Sampled Row Count: 603055\n"
          ]
        }
      ]
    },
    {
      "cell_type": "code",
      "source": [
        "print(f\"Number of partitions: {sampled_df.rdd.getNumPartitions()}\")\n"
      ],
      "metadata": {
        "colab": {
          "base_uri": "https://localhost:8080/"
        },
        "id": "sLpJmZYkDZFv",
        "outputId": "a4d1fbf7-e9ab-45ea-a5b0-6f9c56ef8f56"
      },
      "execution_count": 58,
      "outputs": [
        {
          "output_type": "stream",
          "name": "stdout",
          "text": [
            "Number of partitions: 6\n"
          ]
        }
      ]
    },
    {
      "cell_type": "code",
      "source": [
        "sampled_df.show(10)\n"
      ],
      "metadata": {
        "colab": {
          "base_uri": "https://localhost:8080/"
        },
        "id": "iItyHGLpDg2r",
        "outputId": "ed387c54-bd90-4524-9bc5-afa136fd71d0"
      },
      "execution_count": 59,
      "outputs": [
        {
          "output_type": "stream",
          "name": "stdout",
          "text": [
            "+----+-----+----------+----------+-------------------------+-------------------+----------------+----------+-------+--------+---------------+-------+---------+--------+------+----------+-------+--------+---------------+--------------+-----------------+-------+--------+-------------+------------+------------+--------+-------------+-----------------+-----------------+\n",
            "|Year|Month|DayofMonth|FlightDate|Marketing_Airline_Network|     OriginCityName|    DestCityName|CRSDepTime|DepTime|DepDelay|DepDelayMinutes|TaxiOut|WheelsOff|WheelsOn|TaxiIn|CRSArrTime|ArrTime|ArrDelay|ArrDelayMinutes|CRSElapsedTime|ActualElapsedTime|AirTime|Distance|DistanceGroup|CarrierDelay|WeatherDelay|NASDelay|SecurityDelay|LateAircraftDelay|__index_level_0__|\n",
            "+----+-----+----------+----------+-------------------------+-------------------+----------------+----------+-------+--------+---------------+-------+---------+--------+------+----------+-------+--------+---------------+--------------+-----------------+-------+--------+-------------+------------+------------+--------+-------------+-----------------+-----------------+\n",
            "|2018|    1|        24|2018-01-24|                       UA|        Houston, TX|      Monroe, LA|      2125| 2115.0|   -10.0|            0.0|   11.0|   2126.0|  2210.0|   5.0|      2239| 2215.0|   -24.0|            0.0|          74.0|             60.0|   44.0|   262.0|            2|         0.0|         0.0|     0.0|          0.0|              0.0|               71|\n",
            "|2018|    1|        14|2018-01-14|                       UA|Gulfport/Biloxi, MS|     Houston, TX|      1515| 1502.0|   -13.0|            0.0|   10.0|   1512.0|  1620.0|   5.0|      1651| 1625.0|   -26.0|            0.0|          96.0|             83.0|   68.0|   376.0|            2|         0.0|         0.0|     0.0|          0.0|              0.0|              112|\n",
            "|2018|    1|         6|2018-01-06|                       UA|        Chicago, IL| Springfield, MO|      1235| 1224.0|   -11.0|            0.0|   26.0|   1250.0|  1405.0|  15.0|      1425| 1420.0|    -5.0|            0.0|         110.0|            116.0|   75.0|   438.0|            2|         0.0|         0.0|     0.0|          0.0|              0.0|              296|\n",
            "|2018|    1|        20|2018-01-20|                       UA|        Houston, TX|    Amarillo, TX|       940| 1119.0|    99.0|           99.0|   14.0|   1133.0|  1246.0|   3.0|      1131| 1249.0|    78.0|           78.0|         111.0|             90.0|   73.0|   517.0|            3|         0.0|         0.0|     0.0|          0.0|             78.0|              350|\n",
            "|2018|    1|        31|2018-01-31|                       UA|         Newark, NJ|Indianapolis, IN|       835|  832.0|    -3.0|            0.0|   20.0|    852.0|  1043.0|   7.0|      1106| 1050.0|   -16.0|            0.0|         151.0|            138.0|  111.0|   645.0|            3|         0.0|         0.0|     0.0|          0.0|              0.0|              416|\n",
            "|2018|    1|         2|2018-01-02|                       DL|        Atlanta, GA|  Huntsville, AL|      1217| 1315.0|    58.0|           58.0|   19.0|   1334.0|  1306.0|   3.0|      1220| 1309.0|    49.0|           49.0|          63.0|             54.0|   32.0|   151.0|            1|        49.0|         0.0|     0.0|          0.0|              0.0|              446|\n",
            "|2018|    1|         2|2018-01-02|                       DL|       Richmond, VA|     Detroit, MI|      1240| 1314.0|    34.0|           34.0|   14.0|   1328.0|  1449.0|   8.0|      1441| 1457.0|    16.0|           16.0|         121.0|            103.0|   81.0|   456.0|            2|         0.0|         0.0|     0.0|          0.0|             16.0|              468|\n",
            "|2018|    1|         2|2018-01-02|                       DL|        Atlanta, GA|   Lexington, KY|      2234|   16.0|   102.0|          102.0|    8.0|     24.0|   111.0|   4.0|      2355|  115.0|    80.0|           80.0|          81.0|             59.0|   47.0|   304.0|            2|        80.0|         0.0|     0.0|          0.0|              0.0|              517|\n",
            "|2018|    1|         2|2018-01-02|                       DL|     Pittsburgh, PA|    New York, NY|       930|  921.0|    -9.0|            0.0|   32.0|    953.0|  1051.0|  11.0|      1109| 1102.0|    -7.0|            0.0|          99.0|            101.0|   58.0|   335.0|            2|         0.0|         0.0|     0.0|          0.0|              0.0|              523|\n",
            "|2018|    1|         2|2018-01-02|                       DL|       Savannah, GA|    New York, NY|      1259| 1255.0|    -4.0|            0.0|   21.0|   1316.0|  1450.0|   7.0|      1507| 1457.0|   -10.0|            0.0|         128.0|            122.0|   94.0|   722.0|            3|         0.0|         0.0|     0.0|          0.0|              0.0|              546|\n",
            "+----+-----+----------+----------+-------------------------+-------------------+----------------+----------+-------+--------+---------------+-------+---------+--------+------+----------+-------+--------+---------------+--------------+-----------------+-------+--------+-------------+------------+------------+--------+-------------+-----------------+-----------------+\n",
            "only showing top 10 rows\n",
            "\n"
          ]
        }
      ]
    },
    {
      "cell_type": "code",
      "source": [
        "sampled_df.printSchema()"
      ],
      "metadata": {
        "colab": {
          "base_uri": "https://localhost:8080/"
        },
        "id": "j3nyKQctDkus",
        "outputId": "cac9fa6a-021f-4fc3-b7a0-e240ce855e27"
      },
      "execution_count": 60,
      "outputs": [
        {
          "output_type": "stream",
          "name": "stdout",
          "text": [
            "root\n",
            " |-- Year: long (nullable = true)\n",
            " |-- Month: long (nullable = true)\n",
            " |-- DayofMonth: long (nullable = true)\n",
            " |-- FlightDate: string (nullable = true)\n",
            " |-- Marketing_Airline_Network: string (nullable = true)\n",
            " |-- OriginCityName: string (nullable = true)\n",
            " |-- DestCityName: string (nullable = true)\n",
            " |-- CRSDepTime: long (nullable = true)\n",
            " |-- DepTime: double (nullable = true)\n",
            " |-- DepDelay: double (nullable = true)\n",
            " |-- DepDelayMinutes: double (nullable = true)\n",
            " |-- TaxiOut: double (nullable = true)\n",
            " |-- WheelsOff: double (nullable = true)\n",
            " |-- WheelsOn: double (nullable = true)\n",
            " |-- TaxiIn: double (nullable = true)\n",
            " |-- CRSArrTime: long (nullable = true)\n",
            " |-- ArrTime: double (nullable = true)\n",
            " |-- ArrDelay: double (nullable = true)\n",
            " |-- ArrDelayMinutes: double (nullable = true)\n",
            " |-- CRSElapsedTime: double (nullable = true)\n",
            " |-- ActualElapsedTime: double (nullable = true)\n",
            " |-- AirTime: double (nullable = true)\n",
            " |-- Distance: double (nullable = true)\n",
            " |-- DistanceGroup: long (nullable = true)\n",
            " |-- CarrierDelay: double (nullable = true)\n",
            " |-- WeatherDelay: double (nullable = true)\n",
            " |-- NASDelay: double (nullable = true)\n",
            " |-- SecurityDelay: double (nullable = true)\n",
            " |-- LateAircraftDelay: double (nullable = true)\n",
            " |-- __index_level_0__: long (nullable = true)\n",
            "\n"
          ]
        }
      ]
    },
    {
      "cell_type": "code",
      "source": [
        "print(f\"Row Count: {sampled_df.count()}\")\n"
      ],
      "metadata": {
        "colab": {
          "base_uri": "https://localhost:8080/"
        },
        "id": "ehyCDhOpDqW4",
        "outputId": "6f82a4b4-47d4-4db1-be24-4f0d0318b7e6"
      },
      "execution_count": 61,
      "outputs": [
        {
          "output_type": "stream",
          "name": "stdout",
          "text": [
            "Row Count: 603055\n"
          ]
        }
      ]
    },
    {
      "cell_type": "code",
      "source": [
        "sampled_df.describe().show()\n"
      ],
      "metadata": {
        "colab": {
          "base_uri": "https://localhost:8080/"
        },
        "id": "-e0T4sffDvYT",
        "outputId": "99a08bd7-3c3d-4077-9ec0-f2068cf4f73d"
      },
      "execution_count": 62,
      "outputs": [
        {
          "output_type": "stream",
          "name": "stdout",
          "text": [
            "+-------+------------------+------------------+------------------+----------+-------------------------+--------------+------------+------------------+------------------+------------------+------------------+-----------------+------------------+-----------------+-----------------+------------------+------------------+------------------+------------------+------------------+------------------+------------------+-----------------+-----------------+-----------------+------------------+------------------+--------------------+-----------------+------------------+\n",
            "|summary|              Year|             Month|        DayofMonth|FlightDate|Marketing_Airline_Network|OriginCityName|DestCityName|        CRSDepTime|           DepTime|          DepDelay|   DepDelayMinutes|          TaxiOut|         WheelsOff|         WheelsOn|           TaxiIn|        CRSArrTime|           ArrTime|          ArrDelay|   ArrDelayMinutes|    CRSElapsedTime| ActualElapsedTime|           AirTime|         Distance|    DistanceGroup|     CarrierDelay|      WeatherDelay|          NASDelay|       SecurityDelay|LateAircraftDelay| __index_level_0__|\n",
            "+-------+------------------+------------------+------------------+----------+-------------------------+--------------+------------+------------------+------------------+------------------+------------------+-----------------+------------------+-----------------+-----------------+------------------+------------------+------------------+------------------+------------------+------------------+------------------+-----------------+-----------------+-----------------+------------------+------------------+--------------------+-----------------+------------------+\n",
            "|  count|            603055|            603055|            603055|    603055|                   603055|        603055|      603055|            603055|            603055|            603055|            603055|           603055|            603055|           603055|           603055|            603055|            603055|            603055|            603055|            603055|            603055|            603055|           603055|           603055|           603055|            603055|            603055|              603055|           603055|            603055|\n",
            "|   mean|2020.0911542064987| 6.296258218570445|15.713682831582526|      NULL|                     NULL|          NULL|        NULL|1321.6910232068385|1326.4213098307782|10.531051064994072|14.214550911608393| 16.5161701669002|1349.4336702290836|1456.076049448226|7.452633673545531|1484.0858827138486|1461.4925040004644|3.6868776479757237|14.355849798111283|138.84826425450416|132.00333468754923|108.03461044183366|776.2274054605301|3.579766356302493|5.015976983857194|0.8027808408851598|2.9936506620457504|0.026752120453358317|5.516689190869821|298179.78806079045|\n",
            "| stddev|1.6023197947535226|3.4887878306796365|  8.77697539482611|      NULL|                     NULL|          NULL|        NULL|  484.191944682318|498.31384553379723| 51.59153370772892| 50.42114146293439|9.684225408138158| 499.7800135648049|524.2899262460975|6.001587093300107|507.75589461504416| 527.9318954130099| 54.18921489617726| 50.36441720295831|   70.958821685063| 70.63199662087527| 68.75999583008216|581.8997651398525|2.292410483071091|33.32301661731597|14.356052036792526|16.703244676189186|   1.541069153407621|27.81801837737554|182000.16993791226|\n",
            "|    min|              2018|                 1|                 1|2018-01-01|                       AA|  Aberdeen, SD|Aberdeen, SD|                 1|               1.0|             -92.0|               0.0|              0.0|               1.0|              1.0|              0.0|                 1|               1.0|            -105.0|               0.0|               1.0|              16.0|           -1410.0|             16.0|                1|              0.0|               0.0|               0.0|                 0.0|              0.0|                 1|\n",
            "|    max|              2023|                12|                31|2023-04-30|                       WN|      Yuma, AZ|    Yuma, AZ|              2359|            2400.0|            2369.0|            2369.0|           1439.0|            2400.0|           2400.0|            229.0|              2400|            2400.0|            2371.0|            2371.0|             695.0|             732.0|             691.0|           5095.0|               11|           2365.0|            1747.0|            1366.0|               530.0|           1715.0|            717679|\n",
            "+-------+------------------+------------------+------------------+----------+-------------------------+--------------+------------+------------------+------------------+------------------+------------------+-----------------+------------------+-----------------+-----------------+------------------+------------------+------------------+------------------+------------------+------------------+------------------+-----------------+-----------------+-----------------+------------------+------------------+--------------------+-----------------+------------------+\n",
            "\n"
          ]
        }
      ]
    },
    {
      "cell_type": "code",
      "source": [
        "partition_sizes = sampled_df.rdd.glom().map(len).collect()\n",
        "print(f\"Partition Sizes: {partition_sizes}\")"
      ],
      "metadata": {
        "colab": {
          "base_uri": "https://localhost:8080/"
        },
        "id": "xLe6QCN9EaDI",
        "outputId": "1646a842-2047-42eb-9b69-f6539f865b03"
      },
      "execution_count": 63,
      "outputs": [
        {
          "output_type": "stream",
          "name": "stdout",
          "text": [
            "Partition Sizes: [0, 0, 603055, 0, 0, 0]\n"
          ]
        }
      ]
    },
    {
      "cell_type": "code",
      "source": [
        "repartitioned_df = sampled_df.repartition(10)\n",
        "print(\"Number of partitions after repartitioning:\", repartitioned_df.rdd.getNumPartitions())\n"
      ],
      "metadata": {
        "colab": {
          "base_uri": "https://localhost:8080/"
        },
        "id": "O6GBHlLnwhDi",
        "outputId": "95b1fa43-87a1-4295-8fcc-40d0ca82d3fc"
      },
      "execution_count": 64,
      "outputs": [
        {
          "output_type": "stream",
          "name": "stdout",
          "text": [
            "Number of partitions after repartitioning: 10\n"
          ]
        }
      ]
    },
    {
      "cell_type": "code",
      "source": [
        "# need to optimize it further\n",
        "repartitioned_df.cache()\n",
        "print(\"Is the DataFrame cached?\", repartitioned_df.is_cached)\n"
      ],
      "metadata": {
        "colab": {
          "base_uri": "https://localhost:8080/"
        },
        "id": "Rg3eF0WewhG-",
        "outputId": "70ff147b-6a1e-4e23-b2f3-7356388407c4"
      },
      "execution_count": 65,
      "outputs": [
        {
          "output_type": "stream",
          "name": "stdout",
          "text": [
            "Is the DataFrame cached? True\n"
          ]
        }
      ]
    },
    {
      "cell_type": "markdown",
      "source": [
        "we did understand the data until now and optimized the partitioned  data next we need to do data cleaning"
      ],
      "metadata": {
        "id": "QUTGDKch2Ihb"
      }
    },
    {
      "cell_type": "code",
      "source": [
        "cleaned_df = cleaned_df.dropDuplicates()\n"
      ],
      "metadata": {
        "id": "xPdZPn0g129c"
      },
      "execution_count": 66,
      "outputs": []
    },
    {
      "cell_type": "code",
      "source": [
        "cleaned_df = repartitioned_df.dropna(subset=[\"DepDelay\", \"ArrDelay\", \"FlightDate\", \"Marketing_Airline_Network\"])\n"
      ],
      "metadata": {
        "id": "WlNptFKk2a60"
      },
      "execution_count": 67,
      "outputs": []
    },
    {
      "cell_type": "markdown",
      "source": [
        "since we have cleaned the data need to preprocess it accordingly so that we can use the data set for analysis"
      ],
      "metadata": {
        "id": "bLrvG77x2pW_"
      }
    },
    {
      "cell_type": "code",
      "source": [
        "from pyspark.sql.functions import to_date\n",
        "processed_df = cleaned_df.withColumn(\"FlightDate\", to_date(\"FlightDate\", \"yyyy-MM-dd\"))\n"
      ],
      "metadata": {
        "id": "MtUi5E1D27oF"
      },
      "execution_count": 68,
      "outputs": []
    },
    {
      "cell_type": "code",
      "source": [
        "from pyspark.sql.functions import col\n",
        "processed_df = processed_df.withColumn(\"TotalDelay\", col(\"DepDelay\") + col(\"ArrDelay\"))\n"
      ],
      "metadata": {
        "id": "QCERgk4r27rB"
      },
      "execution_count": 69,
      "outputs": []
    },
    {
      "cell_type": "code",
      "source": [
        "from pyspark.sql.functions import when\n",
        "\n",
        "carrier_mapping = {\n",
        "    \"AA\": \"American Airlines\",\n",
        "    \"DL\": \"Delta Airlines\",\n",
        "    \"UA\": \"United Airlines\",\n",
        "    \"WN\": \"Southwest Airlines\",\n",
        "\n",
        "}\n",
        "\n",
        "# Map carrier codes to full names\n",
        "processed_df = processed_df.withColumn(\n",
        "    \"CarrierName\",\n",
        "    when(col(\"Marketing_Airline_Network\") == \"AA\", \"American Airlines\")\n",
        "    .when(col(\"Marketing_Airline_Network\") == \"DL\", \"Delta Airlines\")\n",
        "    .when(col(\"Marketing_Airline_Network\") == \"UA\", \"United Airlines\")\n",
        "    .when(col(\"Marketing_Airline_Network\") == \"WN\", \"Southwest Airlines\")\n",
        "    .otherwise(\"Unknown\")\n",
        ")\n"
      ],
      "metadata": {
        "id": "VWHf0zoB27ui"
      },
      "execution_count": 70,
      "outputs": []
    },
    {
      "cell_type": "code",
      "source": [
        "# Define a dictionary for city mappings\n",
        "city_mapping = {\n",
        "    \"ATL\": \"Atlanta\",\n",
        "    \"LAX\": \"Los Angeles\",\n",
        "    \"ORD\": \"Chicago\",\n",
        "    \"DFW\": \"Dallas-Fort Worth\",\n",
        "    \"DEN\": \"Denver\",\n",
        "    # Add more mappings as needed\n",
        "}\n",
        "\n",
        "# Map OriginCityName and DestCityName to full names\n",
        "processed_df = processed_df.withColumn(\n",
        "    \"Origin_City\",\n",
        "    when(col(\"OriginCityName\") == \"ATL\", \"Atlanta\")\n",
        "    .when(col(\"OriginCityName\") == \"LAX\", \"Los Angeles\")\n",
        "    .when(col(\"OriginCityName\") == \"ORD\", \"Chicago\")\n",
        "    .when(col(\"OriginCityName\") == \"DFW\", \"Dallas-Fort Worth\")\n",
        "    .when(col(\"OriginCityName\") == \"DEN\", \"Denver\")\n",
        "    .otherwise(\"Unknown\")\n",
        ")\n",
        "\n",
        "processed_df = processed_df.withColumn(\n",
        "    \"Dest_City\",\n",
        "    when(col(\"DestCityName\") == \"ATL\", \"Atlanta\")\n",
        "    .when(col(\"DestCityName\") == \"LAX\", \"Los Angeles\")\n",
        "    .when(col(\"DestCityName\") == \"ORD\", \"Chicago\")\n",
        "    .when(col(\"DestCityName\") == \"DFW\", \"Dallas-Fort Worth\")\n",
        "    .when(col(\"DestCityName\") == \"DEN\", \"Denver\")\n",
        "    .otherwise(\"Unknown\")\n",
        ")\n"
      ],
      "metadata": {
        "id": "-3aIGoCk4Fmu"
      },
      "execution_count": 71,
      "outputs": []
    },
    {
      "cell_type": "code",
      "source": [
        "from pyspark.sql.functions import dayofweek\n",
        "processed_df = processed_df.withColumn(\"Weekday\", dayofweek(\"FlightDate\"))\n"
      ],
      "metadata": {
        "id": "3Cu1NmvS4Kig"
      },
      "execution_count": 72,
      "outputs": []
    },
    {
      "cell_type": "code",
      "source": [
        "\n",
        "processed_df = processed_df.withColumn(\"IsDelayed\", col(\"TotalDelay\") > 15)\n"
      ],
      "metadata": {
        "id": "0rWceir_4RT6"
      },
      "execution_count": 73,
      "outputs": []
    },
    {
      "cell_type": "code",
      "source": [
        "from pyspark.sql.functions import when\n",
        "\n",
        "processed_df = processed_df.withColumn(\n",
        "    \"DistanceCategory\",\n",
        "    when(col(\"Distance\") <= 500, \"Short-Haul\")\n",
        "    .when((col(\"Distance\") > 500) & (col(\"Distance\") <= 1500), \"Medium-Haul\")\n",
        "    .otherwise(\"Long-Haul\")\n",
        ")\n"
      ],
      "metadata": {
        "id": "__rsA9gI4U06"
      },
      "execution_count": 74,
      "outputs": []
    },
    {
      "cell_type": "code",
      "source": [
        "processed_df = processed_df.withColumn(\"TaxiTime\", col(\"TaxiOut\") + col(\"TaxiIn\"))\n"
      ],
      "metadata": {
        "id": "XL5BPaww4Wvb"
      },
      "execution_count": 75,
      "outputs": []
    },
    {
      "cell_type": "code",
      "source": [
        "processed_df = processed_df.repartition(8)\n"
      ],
      "metadata": {
        "id": "5SUnNekA4aa2"
      },
      "execution_count": 76,
      "outputs": []
    },
    {
      "cell_type": "code",
      "source": [
        "processed_df.cache()\n"
      ],
      "metadata": {
        "colab": {
          "base_uri": "https://localhost:8080/"
        },
        "id": "utg9loCd4dtJ",
        "outputId": "018abd72-f586-44af-bd6a-57bf94be04bd"
      },
      "execution_count": 77,
      "outputs": [
        {
          "output_type": "execute_result",
          "data": {
            "text/plain": [
              "DataFrame[Year: bigint, Month: bigint, DayofMonth: bigint, FlightDate: date, Marketing_Airline_Network: string, OriginCityName: string, DestCityName: string, CRSDepTime: bigint, DepTime: double, DepDelay: double, DepDelayMinutes: double, TaxiOut: double, WheelsOff: double, WheelsOn: double, TaxiIn: double, CRSArrTime: bigint, ArrTime: double, ArrDelay: double, ArrDelayMinutes: double, CRSElapsedTime: double, ActualElapsedTime: double, AirTime: double, Distance: double, DistanceGroup: bigint, CarrierDelay: double, WeatherDelay: double, NASDelay: double, SecurityDelay: double, LateAircraftDelay: double, __index_level_0__: bigint, TotalDelay: double, CarrierName: string, Origin_City: string, Dest_City: string, Weekday: int, IsDelayed: boolean, DistanceCategory: string, TaxiTime: double]"
            ]
          },
          "metadata": {},
          "execution_count": 77
        }
      ]
    },
    {
      "cell_type": "markdown",
      "source": [
        "**trying** to analyze the processed data\n"
      ],
      "metadata": {
        "id": "pOXRDYLb6A70"
      }
    },
    {
      "cell_type": "code",
      "source": [
        "\n",
        "processed_df.printSchema()\n",
        "\n",
        "processed_df.show(10)\n"
      ],
      "metadata": {
        "colab": {
          "base_uri": "https://localhost:8080/"
        },
        "id": "bahJ7fEW4dwj",
        "outputId": "59ca2b7a-5ced-43e6-9902-70a893bae37a"
      },
      "execution_count": 78,
      "outputs": [
        {
          "output_type": "stream",
          "name": "stdout",
          "text": [
            "root\n",
            " |-- Year: long (nullable = true)\n",
            " |-- Month: long (nullable = true)\n",
            " |-- DayofMonth: long (nullable = true)\n",
            " |-- FlightDate: date (nullable = true)\n",
            " |-- Marketing_Airline_Network: string (nullable = true)\n",
            " |-- OriginCityName: string (nullable = true)\n",
            " |-- DestCityName: string (nullable = true)\n",
            " |-- CRSDepTime: long (nullable = true)\n",
            " |-- DepTime: double (nullable = true)\n",
            " |-- DepDelay: double (nullable = true)\n",
            " |-- DepDelayMinutes: double (nullable = true)\n",
            " |-- TaxiOut: double (nullable = true)\n",
            " |-- WheelsOff: double (nullable = true)\n",
            " |-- WheelsOn: double (nullable = true)\n",
            " |-- TaxiIn: double (nullable = true)\n",
            " |-- CRSArrTime: long (nullable = true)\n",
            " |-- ArrTime: double (nullable = true)\n",
            " |-- ArrDelay: double (nullable = true)\n",
            " |-- ArrDelayMinutes: double (nullable = true)\n",
            " |-- CRSElapsedTime: double (nullable = true)\n",
            " |-- ActualElapsedTime: double (nullable = true)\n",
            " |-- AirTime: double (nullable = true)\n",
            " |-- Distance: double (nullable = true)\n",
            " |-- DistanceGroup: long (nullable = true)\n",
            " |-- CarrierDelay: double (nullable = true)\n",
            " |-- WeatherDelay: double (nullable = true)\n",
            " |-- NASDelay: double (nullable = true)\n",
            " |-- SecurityDelay: double (nullable = true)\n",
            " |-- LateAircraftDelay: double (nullable = true)\n",
            " |-- __index_level_0__: long (nullable = true)\n",
            " |-- TotalDelay: double (nullable = true)\n",
            " |-- CarrierName: string (nullable = false)\n",
            " |-- Origin_City: string (nullable = false)\n",
            " |-- Dest_City: string (nullable = false)\n",
            " |-- Weekday: integer (nullable = true)\n",
            " |-- IsDelayed: boolean (nullable = true)\n",
            " |-- DistanceCategory: string (nullable = false)\n",
            " |-- TaxiTime: double (nullable = true)\n",
            "\n",
            "+----+-----+----------+----------+-------------------------+--------------+--------------------+----------+-------+--------+---------------+-------+---------+--------+------+----------+-------+--------+---------------+--------------+-----------------+-------+--------+-------------+------------+------------+--------+-------------+-----------------+-----------------+----------+-----------------+-----------+---------+-------+---------+----------------+--------+\n",
            "|Year|Month|DayofMonth|FlightDate|Marketing_Airline_Network|OriginCityName|        DestCityName|CRSDepTime|DepTime|DepDelay|DepDelayMinutes|TaxiOut|WheelsOff|WheelsOn|TaxiIn|CRSArrTime|ArrTime|ArrDelay|ArrDelayMinutes|CRSElapsedTime|ActualElapsedTime|AirTime|Distance|DistanceGroup|CarrierDelay|WeatherDelay|NASDelay|SecurityDelay|LateAircraftDelay|__index_level_0__|TotalDelay|      CarrierName|Origin_City|Dest_City|Weekday|IsDelayed|DistanceCategory|TaxiTime|\n",
            "+----+-----+----------+----------+-------------------------+--------------+--------------------+----------+-------+--------+---------------+-------+---------+--------+------+----------+-------+--------+---------------+--------------+-----------------+-------+--------+-------------+------------+------------+--------+-------------+-----------------+-----------------+----------+-----------------+-----------+---------+-------+---------+----------------+--------+\n",
            "|2019|    7|        13|2019-07-13|                       DL|  New York, NY|      Wilmington, NC|       935|  926.0|    -9.0|            0.0|   15.0|    941.0|  1052.0|   9.0|      1133| 1101.0|   -32.0|            0.0|         118.0|             95.0|   71.0|   500.0|            3|         0.0|         0.0|     0.0|          0.0|              0.0|           104212|     -41.0|   Delta Airlines|    Unknown|  Unknown|      7|    false|      Short-Haul|    24.0|\n",
            "|2022|    6|        25|2022-06-25|                       F9|   Orlando, FL|      Cincinnati, OH|       916|  946.0|    30.0|           30.0|   55.0|   1041.0|  1234.0|   7.0|      1131| 1241.0|    70.0|           70.0|         135.0|            175.0|  113.0|   757.0|            4|         7.0|         0.0|    63.0|          0.0|              0.0|           229293|     100.0|          Unknown|    Unknown|  Unknown|      7|     true|     Medium-Haul|    62.0|\n",
            "|2020|    7|        31|2020-07-31|                       DL|   Atlanta, GA|      Charleston, SC|      1545| 1532.0|   -13.0|            0.0|   21.0|   1553.0|  1639.0|   3.0|      1650| 1642.0|    -8.0|            0.0|          65.0|             70.0|   46.0|   259.0|            2|         0.0|         0.0|     0.0|          0.0|              0.0|           336768|     -21.0|   Delta Airlines|    Unknown|  Unknown|      6|    false|      Short-Haul|    24.0|\n",
            "|2021|    8|        12|2021-08-12|                       DL|   Seattle, WA|           Sitka, AK|      2120| 2118.0|    -2.0|            0.0|   14.0|   2132.0|  2241.0|   4.0|      2247| 2245.0|    -2.0|            0.0|         147.0|            147.0|  129.0|   861.0|            4|         0.0|         0.0|     0.0|          0.0|              0.0|           216846|      -4.0|   Delta Airlines|    Unknown|  Unknown|      5|    false|     Medium-Haul|    18.0|\n",
            "|2020|    8|        21|2020-08-21|                       AA|    Albany, NY|    Philadelphia, PA|      1054| 1048.0|    -6.0|            0.0|   13.0|   1101.0|  1148.0|   8.0|      1158| 1156.0|    -2.0|            0.0|          64.0|             68.0|   47.0|   212.0|            1|         0.0|         0.0|     0.0|          0.0|              0.0|           198430|      -8.0|American Airlines|    Unknown|  Unknown|      6|    false|      Short-Haul|    21.0|\n",
            "|2019|    1|        23|2019-01-23|                       AA| Pensacola, FL|Dallas/Fort Worth...|      1919| 1941.0|    22.0|           22.0|   16.0|   1957.0|  2130.0|   8.0|      2122| 2138.0|    16.0|           16.0|         123.0|            117.0|   93.0|   604.0|            3|         0.0|         0.0|     0.0|          0.0|             16.0|           221956|      38.0|American Airlines|    Unknown|  Unknown|      4|     true|     Medium-Haul|    24.0|\n",
            "|2018|    3|        13|2018-03-13|                       UA|      Reno, NV|          Denver, CO|      1335| 1338.0|     3.0|            3.0|   11.0|   1349.0|  1632.0|   5.0|      1643| 1637.0|    -6.0|            0.0|         128.0|            119.0|  103.0|   804.0|            4|         0.0|         0.0|     0.0|          0.0|              0.0|            52635|      -3.0|  United Airlines|    Unknown|  Unknown|      3|    false|     Medium-Haul|    16.0|\n",
            "|2019|   11|         4|2019-11-04|                       UA| Baltimore, MD|          Denver, CO|      1545| 1557.0|    12.0|           12.0|   16.0|   1613.0|  1753.0|  10.0|      1746| 1803.0|    17.0|           17.0|         241.0|            246.0|  220.0|  1491.0|            6|        12.0|         0.0|     5.0|          0.0|              0.0|           242178|      29.0|  United Airlines|    Unknown|  Unknown|      2|     true|     Medium-Haul|    26.0|\n",
            "|2018|    6|        11|2018-06-11|                       UA|   Chicago, IL|       San Diego, CA|      1549| 1557.0|     8.0|            8.0|   28.0|   1625.0|  1807.0|   2.0|      1809| 1809.0|     0.0|            0.0|         260.0|            252.0|  222.0|  1723.0|            7|         0.0|         0.0|     0.0|          0.0|              0.0|            65193|       8.0|  United Airlines|    Unknown|  Unknown|      2|    false|       Long-Haul|    30.0|\n",
            "|2022|    6|        28|2022-06-28|                       AS|   Seattle, WA|         Spokane, WA|      1115| 1111.0|    -4.0|            0.0|   23.0|   1134.0|  1210.0|   3.0|      1227| 1213.0|   -14.0|            0.0|          72.0|             62.0|   36.0|   224.0|            1|         0.0|         0.0|     0.0|          0.0|              0.0|           571114|     -18.0|          Unknown|    Unknown|  Unknown|      3|    false|      Short-Haul|    26.0|\n",
            "+----+-----+----------+----------+-------------------------+--------------+--------------------+----------+-------+--------+---------------+-------+---------+--------+------+----------+-------+--------+---------------+--------------+-----------------+-------+--------+-------------+------------+------------+--------+-------------+-----------------+-----------------+----------+-----------------+-----------+---------+-------+---------+----------------+--------+\n",
            "only showing top 10 rows\n",
            "\n"
          ]
        }
      ]
    },
    {
      "cell_type": "code",
      "source": [
        "processed_df.select(\"FlightDate\").show(10)\n"
      ],
      "metadata": {
        "colab": {
          "base_uri": "https://localhost:8080/"
        },
        "id": "n4J-tPd449eV",
        "outputId": "98449f2c-1225-4cf1-8cc3-f05dc0c5dcf5"
      },
      "execution_count": 79,
      "outputs": [
        {
          "output_type": "stream",
          "name": "stdout",
          "text": [
            "+----------+\n",
            "|FlightDate|\n",
            "+----------+\n",
            "|2019-07-13|\n",
            "|2022-06-25|\n",
            "|2020-07-31|\n",
            "|2021-08-12|\n",
            "|2020-08-21|\n",
            "|2019-01-23|\n",
            "|2018-03-13|\n",
            "|2019-11-04|\n",
            "|2018-06-11|\n",
            "|2022-06-28|\n",
            "+----------+\n",
            "only showing top 10 rows\n",
            "\n"
          ]
        }
      ]
    },
    {
      "cell_type": "code",
      "source": [
        "processed_df.select(\"DepDelay\", \"ArrDelay\", \"TotalDelay\").show(10)\n"
      ],
      "metadata": {
        "colab": {
          "base_uri": "https://localhost:8080/"
        },
        "id": "Ehk4KUya49ha",
        "outputId": "e9a3f188-3028-4df6-e259-de85f8150c44"
      },
      "execution_count": 80,
      "outputs": [
        {
          "output_type": "stream",
          "name": "stdout",
          "text": [
            "+--------+--------+----------+\n",
            "|DepDelay|ArrDelay|TotalDelay|\n",
            "+--------+--------+----------+\n",
            "|    -9.0|   -32.0|     -41.0|\n",
            "|    30.0|    70.0|     100.0|\n",
            "|   -13.0|    -8.0|     -21.0|\n",
            "|    -2.0|    -2.0|      -4.0|\n",
            "|    -6.0|    -2.0|      -8.0|\n",
            "|    22.0|    16.0|      38.0|\n",
            "|     3.0|    -6.0|      -3.0|\n",
            "|    12.0|    17.0|      29.0|\n",
            "|     8.0|     0.0|       8.0|\n",
            "|    -4.0|   -14.0|     -18.0|\n",
            "+--------+--------+----------+\n",
            "only showing top 10 rows\n",
            "\n"
          ]
        }
      ]
    },
    {
      "cell_type": "code",
      "source": [
        "processed_df.select(\"OriginCityName\", \"Origin_City\", \"DestCityName\", \"Dest_City\").distinct().show(10)\n"
      ],
      "metadata": {
        "colab": {
          "base_uri": "https://localhost:8080/"
        },
        "id": "i88N2JqV49kc",
        "outputId": "62109c86-85c6-4012-ec19-6340bdef0444"
      },
      "execution_count": 81,
      "outputs": [
        {
          "output_type": "stream",
          "name": "stdout",
          "text": [
            "+-------------------+-----------+-------------------+---------+\n",
            "|     OriginCityName|Origin_City|       DestCityName|Dest_City|\n",
            "+-------------------+-----------+-------------------+---------+\n",
            "|   Philadelphia, PA|    Unknown|    Minneapolis, MN|  Unknown|\n",
            "|         Boston, MA|    Unknown|    Los Angeles, CA|  Unknown|\n",
            "|   Philadelphia, PA|    Unknown|        Phoenix, AZ|  Unknown|\n",
            "|   Philadelphia, PA|    Unknown|Charlottesville, VA|  Unknown|\n",
            "|   Philadelphia, PA|    Unknown|      St. Louis, MO|  Unknown|\n",
            "|       New York, NY|    Unknown|        Atlanta, GA|  Unknown|\n",
            "|        Houston, TX|    Unknown|    Kansas City, MO|  Unknown|\n",
            "|         Boston, MA|    Unknown|        Phoenix, AZ|  Unknown|\n",
            "|     Providence, RI|    Unknown|         Newark, NJ|  Unknown|\n",
            "|San Luis Obispo, CA|    Unknown|  San Francisco, CA|  Unknown|\n",
            "+-------------------+-----------+-------------------+---------+\n",
            "only showing top 10 rows\n",
            "\n"
          ]
        }
      ]
    },
    {
      "cell_type": "code",
      "source": [
        "\n",
        "processed_df.select(\"FlightDate\", \"Weekday\").show(10)\n",
        "\n",
        "processed_df.select(\"TotalDelay\", \"IsDelayed\").show(10)\n",
        "\n",
        "processed_df.select(\"Distance\", \"DistanceCategory\").show(10)\n"
      ],
      "metadata": {
        "colab": {
          "base_uri": "https://localhost:8080/"
        },
        "id": "ZcpIfh4o49oJ",
        "outputId": "be087a68-c4cd-449b-fe29-9b0cc085a790"
      },
      "execution_count": 82,
      "outputs": [
        {
          "output_type": "stream",
          "name": "stdout",
          "text": [
            "+----------+-------+\n",
            "|FlightDate|Weekday|\n",
            "+----------+-------+\n",
            "|2019-07-13|      7|\n",
            "|2022-06-25|      7|\n",
            "|2020-07-31|      6|\n",
            "|2021-08-12|      5|\n",
            "|2020-08-21|      6|\n",
            "|2019-01-23|      4|\n",
            "|2018-03-13|      3|\n",
            "|2019-11-04|      2|\n",
            "|2018-06-11|      2|\n",
            "|2022-06-28|      3|\n",
            "+----------+-------+\n",
            "only showing top 10 rows\n",
            "\n",
            "+----------+---------+\n",
            "|TotalDelay|IsDelayed|\n",
            "+----------+---------+\n",
            "|     -41.0|    false|\n",
            "|     100.0|     true|\n",
            "|     -21.0|    false|\n",
            "|      -4.0|    false|\n",
            "|      -8.0|    false|\n",
            "|      38.0|     true|\n",
            "|      -3.0|    false|\n",
            "|      29.0|     true|\n",
            "|       8.0|    false|\n",
            "|     -18.0|    false|\n",
            "+----------+---------+\n",
            "only showing top 10 rows\n",
            "\n",
            "+--------+----------------+\n",
            "|Distance|DistanceCategory|\n",
            "+--------+----------------+\n",
            "|   500.0|      Short-Haul|\n",
            "|   757.0|     Medium-Haul|\n",
            "|   259.0|      Short-Haul|\n",
            "|   861.0|     Medium-Haul|\n",
            "|   212.0|      Short-Haul|\n",
            "|   604.0|     Medium-Haul|\n",
            "|   804.0|     Medium-Haul|\n",
            "|  1491.0|     Medium-Haul|\n",
            "|  1723.0|       Long-Haul|\n",
            "|   224.0|      Short-Haul|\n",
            "+--------+----------------+\n",
            "only showing top 10 rows\n",
            "\n"
          ]
        }
      ]
    },
    {
      "cell_type": "code",
      "source": [
        "processed_df.groupBy(\"CarrierName\").avg(\"TotalDelay\").orderBy(\"avg(TotalDelay)\", ascending=False).show()\n"
      ],
      "metadata": {
        "colab": {
          "base_uri": "https://localhost:8080/"
        },
        "id": "Z27Guiur5bby",
        "outputId": "7ea0e0df-039e-4ded-93bc-1cd6498184b3"
      },
      "execution_count": 83,
      "outputs": [
        {
          "output_type": "stream",
          "name": "stdout",
          "text": [
            "+------------------+------------------+\n",
            "|       CarrierName|   avg(TotalDelay)|\n",
            "+------------------+------------------+\n",
            "|   United Airlines|18.545540980720133|\n",
            "|           Unknown|16.446342990260973|\n",
            "| American Airlines|15.287568504894825|\n",
            "|Southwest Airlines|12.995481347310005|\n",
            "|    Delta Airlines| 8.628789862282034|\n",
            "+------------------+------------------+\n",
            "\n"
          ]
        }
      ]
    },
    {
      "cell_type": "code",
      "source": [],
      "metadata": {
        "id": "27irhl7hVCIH"
      },
      "execution_count": 83,
      "outputs": []
    },
    {
      "cell_type": "code",
      "source": [
        "processed_df.groupBy(\"Origin_City\").count().orderBy(\"count\", ascending=False).show()\n"
      ],
      "metadata": {
        "colab": {
          "base_uri": "https://localhost:8080/"
        },
        "id": "Jd5PUybL5hfc",
        "outputId": "b020953f-eff3-4ae1-9e3a-a614001e90a9"
      },
      "execution_count": 84,
      "outputs": [
        {
          "output_type": "stream",
          "name": "stdout",
          "text": [
            "+-----------+------+\n",
            "|Origin_City| count|\n",
            "+-----------+------+\n",
            "|    Unknown|603055|\n",
            "+-----------+------+\n",
            "\n"
          ]
        }
      ]
    },
    {
      "cell_type": "code",
      "source": [
        "processed_df.groupBy(\"Weekday\").avg(\"TotalDelay\").orderBy(\"Weekday\").show()\n"
      ],
      "metadata": {
        "colab": {
          "base_uri": "https://localhost:8080/"
        },
        "id": "LnmNdkkN5pe5",
        "outputId": "1e3d40a9-e20b-4203-fc95-5040e73ad1af"
      },
      "execution_count": 85,
      "outputs": [
        {
          "output_type": "stream",
          "name": "stdout",
          "text": [
            "+-------+------------------+\n",
            "|Weekday|   avg(TotalDelay)|\n",
            "+-------+------------------+\n",
            "|      1|16.156349478987746|\n",
            "|      2| 15.59985291987476|\n",
            "|      3| 10.13390276570247|\n",
            "|      4|10.703122276577696|\n",
            "|      5|17.118077241911855|\n",
            "|      6|17.177604833456865|\n",
            "|      7|12.130942881412649|\n",
            "+-------+------------------+\n",
            "\n"
          ]
        }
      ]
    },
    {
      "cell_type": "code",
      "source": [
        "processed_df.groupBy(\"DistanceCategory\").count().orderBy(\"count\", ascending=False).show()\n"
      ],
      "metadata": {
        "colab": {
          "base_uri": "https://localhost:8080/"
        },
        "id": "bWFzROMg5s8Q",
        "outputId": "219a03d8-e4a7-4664-9b7d-0e6d8c203c0a"
      },
      "execution_count": 86,
      "outputs": [
        {
          "output_type": "stream",
          "name": "stdout",
          "text": [
            "+----------------+------+\n",
            "|DistanceCategory| count|\n",
            "+----------------+------+\n",
            "|     Medium-Haul|297049|\n",
            "|      Short-Haul|238342|\n",
            "|       Long-Haul| 67664|\n",
            "+----------------+------+\n",
            "\n"
          ]
        }
      ]
    },
    {
      "cell_type": "code",
      "source": [],
      "metadata": {
        "id": "6_OTCU0VQQf7"
      },
      "execution_count": 86,
      "outputs": []
    },
    {
      "cell_type": "code",
      "source": [
        "\n",
        "processed_df.write.parquet(\"processed_flight_data.parquet\")\n",
        "\n",
        "\n",
        "loaded_df = spark.read.parquet(\"processed_flight_data.parquet\")\n",
        "\n",
        "\n",
        "loaded_df.show(10)\n"
      ],
      "metadata": {
        "colab": {
          "base_uri": "https://localhost:8080/",
          "height": 373
        },
        "id": "BB8EtJYE52pa",
        "outputId": "f1e8f1a0-ff31-45ea-8fce-955c1438362d"
      },
      "execution_count": 88,
      "outputs": [
        {
          "output_type": "error",
          "ename": "AnalysisException",
          "evalue": "[PATH_ALREADY_EXISTS] Path file:/content/processed_flight_data.parquet already exists. Set mode as \"overwrite\" to overwrite the existing path.",
          "traceback": [
            "\u001b[0;31m---------------------------------------------------------------------------\u001b[0m",
            "\u001b[0;31mAnalysisException\u001b[0m                         Traceback (most recent call last)",
            "\u001b[0;32m<ipython-input-88-a41e5080e0db>\u001b[0m in \u001b[0;36m<cell line: 1>\u001b[0;34m()\u001b[0m\n\u001b[0;32m----> 1\u001b[0;31m \u001b[0mprocessed_df\u001b[0m\u001b[0;34m.\u001b[0m\u001b[0mwrite\u001b[0m\u001b[0;34m.\u001b[0m\u001b[0mparquet\u001b[0m\u001b[0;34m(\u001b[0m\u001b[0;34m\"processed_flight_data.parquet\"\u001b[0m\u001b[0;34m)\u001b[0m\u001b[0;34m\u001b[0m\u001b[0;34m\u001b[0m\u001b[0m\n\u001b[0m\u001b[1;32m      2\u001b[0m \u001b[0;34m\u001b[0m\u001b[0m\n\u001b[1;32m      3\u001b[0m \u001b[0;34m\u001b[0m\u001b[0m\n\u001b[1;32m      4\u001b[0m \u001b[0mloaded_df\u001b[0m \u001b[0;34m=\u001b[0m \u001b[0mspark\u001b[0m\u001b[0;34m.\u001b[0m\u001b[0mread\u001b[0m\u001b[0;34m.\u001b[0m\u001b[0mparquet\u001b[0m\u001b[0;34m(\u001b[0m\u001b[0;34m\"processed_flight_data.parquet\"\u001b[0m\u001b[0;34m)\u001b[0m\u001b[0;34m\u001b[0m\u001b[0;34m\u001b[0m\u001b[0m\n\u001b[1;32m      5\u001b[0m \u001b[0;34m\u001b[0m\u001b[0m\n",
            "\u001b[0;32m/usr/local/lib/python3.10/dist-packages/pyspark/sql/readwriter.py\u001b[0m in \u001b[0;36mparquet\u001b[0;34m(self, path, mode, partitionBy, compression)\u001b[0m\n\u001b[1;32m   1719\u001b[0m             \u001b[0mself\u001b[0m\u001b[0;34m.\u001b[0m\u001b[0mpartitionBy\u001b[0m\u001b[0;34m(\u001b[0m\u001b[0mpartitionBy\u001b[0m\u001b[0;34m)\u001b[0m\u001b[0;34m\u001b[0m\u001b[0;34m\u001b[0m\u001b[0m\n\u001b[1;32m   1720\u001b[0m         \u001b[0mself\u001b[0m\u001b[0;34m.\u001b[0m\u001b[0m_set_opts\u001b[0m\u001b[0;34m(\u001b[0m\u001b[0mcompression\u001b[0m\u001b[0;34m=\u001b[0m\u001b[0mcompression\u001b[0m\u001b[0;34m)\u001b[0m\u001b[0;34m\u001b[0m\u001b[0;34m\u001b[0m\u001b[0m\n\u001b[0;32m-> 1721\u001b[0;31m         \u001b[0mself\u001b[0m\u001b[0;34m.\u001b[0m\u001b[0m_jwrite\u001b[0m\u001b[0;34m.\u001b[0m\u001b[0mparquet\u001b[0m\u001b[0;34m(\u001b[0m\u001b[0mpath\u001b[0m\u001b[0;34m)\u001b[0m\u001b[0;34m\u001b[0m\u001b[0;34m\u001b[0m\u001b[0m\n\u001b[0m\u001b[1;32m   1722\u001b[0m \u001b[0;34m\u001b[0m\u001b[0m\n\u001b[1;32m   1723\u001b[0m     def text(\n",
            "\u001b[0;32m/usr/local/lib/python3.10/dist-packages/py4j/java_gateway.py\u001b[0m in \u001b[0;36m__call__\u001b[0;34m(self, *args)\u001b[0m\n\u001b[1;32m   1320\u001b[0m \u001b[0;34m\u001b[0m\u001b[0m\n\u001b[1;32m   1321\u001b[0m         \u001b[0manswer\u001b[0m \u001b[0;34m=\u001b[0m \u001b[0mself\u001b[0m\u001b[0;34m.\u001b[0m\u001b[0mgateway_client\u001b[0m\u001b[0;34m.\u001b[0m\u001b[0msend_command\u001b[0m\u001b[0;34m(\u001b[0m\u001b[0mcommand\u001b[0m\u001b[0;34m)\u001b[0m\u001b[0;34m\u001b[0m\u001b[0;34m\u001b[0m\u001b[0m\n\u001b[0;32m-> 1322\u001b[0;31m         return_value = get_return_value(\n\u001b[0m\u001b[1;32m   1323\u001b[0m             answer, self.gateway_client, self.target_id, self.name)\n\u001b[1;32m   1324\u001b[0m \u001b[0;34m\u001b[0m\u001b[0m\n",
            "\u001b[0;32m/usr/local/lib/python3.10/dist-packages/pyspark/errors/exceptions/captured.py\u001b[0m in \u001b[0;36mdeco\u001b[0;34m(*a, **kw)\u001b[0m\n\u001b[1;32m    183\u001b[0m                 \u001b[0;31m# Hide where the exception came from that shows a non-Pythonic\u001b[0m\u001b[0;34m\u001b[0m\u001b[0;34m\u001b[0m\u001b[0m\n\u001b[1;32m    184\u001b[0m                 \u001b[0;31m# JVM exception message.\u001b[0m\u001b[0;34m\u001b[0m\u001b[0;34m\u001b[0m\u001b[0m\n\u001b[0;32m--> 185\u001b[0;31m                 \u001b[0;32mraise\u001b[0m \u001b[0mconverted\u001b[0m \u001b[0;32mfrom\u001b[0m \u001b[0;32mNone\u001b[0m\u001b[0;34m\u001b[0m\u001b[0;34m\u001b[0m\u001b[0m\n\u001b[0m\u001b[1;32m    186\u001b[0m             \u001b[0;32melse\u001b[0m\u001b[0;34m:\u001b[0m\u001b[0;34m\u001b[0m\u001b[0;34m\u001b[0m\u001b[0m\n\u001b[1;32m    187\u001b[0m                 \u001b[0;32mraise\u001b[0m\u001b[0;34m\u001b[0m\u001b[0;34m\u001b[0m\u001b[0m\n",
            "\u001b[0;31mAnalysisException\u001b[0m: [PATH_ALREADY_EXISTS] Path file:/content/processed_flight_data.parquet already exists. Set mode as \"overwrite\" to overwrite the existing path."
          ]
        }
      ]
    },
    {
      "cell_type": "code",
      "source": [
        "pandas_df = processed_df.toPandas()\n"
      ],
      "metadata": {
        "id": "ulhVeJEgVDxg"
      },
      "execution_count": 89,
      "outputs": []
    },
    {
      "cell_type": "code",
      "source": [
        "import matplotlib.pyplot as plt\n",
        "import seaborn as sns\n",
        "\n",
        "\n",
        "avg_delay_by_airline = pandas_df.groupby('CarrierName')['TotalDelay'].mean().reset_index()\n",
        "\n",
        "\n",
        "plt.figure(figsize=(10, 6))\n",
        "sns.barplot(data=avg_delay_by_airline, x='CarrierName', y='TotalDelay', palette='viridis')\n",
        "plt.title('Average Total Delay by Airline')\n",
        "plt.ylabel('Average Delay (minutes)')\n",
        "plt.xlabel('Airline')\n",
        "plt.xticks(rotation=45)\n",
        "plt.show()\n"
      ],
      "metadata": {
        "colab": {
          "base_uri": "https://localhost:8080/",
          "height": 758
        },
        "id": "lTFWy0O3VHqE",
        "outputId": "9ffd33f8-7632-4052-f9fa-cf881cc7dfc8"
      },
      "execution_count": 90,
      "outputs": [
        {
          "output_type": "stream",
          "name": "stderr",
          "text": [
            "<ipython-input-90-9f4bb5eaa096>:9: FutureWarning: \n",
            "\n",
            "Passing `palette` without assigning `hue` is deprecated and will be removed in v0.14.0. Assign the `x` variable to `hue` and set `legend=False` for the same effect.\n",
            "\n",
            "  sns.barplot(data=avg_delay_by_airline, x='CarrierName', y='TotalDelay', palette='viridis')\n"
          ]
        },
        {
          "output_type": "display_data",
          "data": {
            "text/plain": [
              "<Figure size 1000x600 with 1 Axes>"
            ],
            "image/png": "[encoded data removed]"
          },
          "metadata": {}
        }
      ]
    },
    {
      "cell_type": "code",
      "source": [
        "\n",
        "avg_delay_by_weekday = pandas_df.groupby('Weekday')['TotalDelay'].mean().reset_index()\n",
        "\n",
        "\n",
        "plt.figure(figsize=(10, 6))\n",
        "sns.barplot(data=avg_delay_by_weekday, x='Weekday', y='TotalDelay', palette='coolwarm')\n",
        "plt.title('Average Total Delay by Day of the Week')\n",
        "plt.ylabel('Average Delay (minutes)')\n",
        "plt.xlabel('Weekday (1=Monday, 7=Sunday)')\n",
        "plt.show()\n"
      ],
      "metadata": {
        "colab": {
          "base_uri": "https://localhost:8080/",
          "height": 671
        },
        "id": "drtISXsbVJGW",
        "outputId": "451d900f-5601-46eb-9aad-8a95810ea144"
      },
      "execution_count": 91,
      "outputs": [
        {
          "output_type": "stream",
          "name": "stderr",
          "text": [
            "<ipython-input-91-addcce4793e5>:5: FutureWarning: \n",
            "\n",
            "Passing `palette` without assigning `hue` is deprecated and will be removed in v0.14.0. Assign the `x` variable to `hue` and set `legend=False` for the same effect.\n",
            "\n",
            "  sns.barplot(data=avg_delay_by_weekday, x='Weekday', y='TotalDelay', palette='coolwarm')\n"
          ]
        },
        {
          "output_type": "display_data",
          "data": {
            "text/plain": [
              "<Figure size 1000x600 with 1 Axes>"
            ],
            "image/png": "[encoded data removed]"
          },
          "metadata": {}
        }
      ]
    },
    {
      "cell_type": "code",
      "source": [
        "\n"
      ],
      "metadata": {
        "id": "CmNgPAulVM1a"
      },
      "execution_count": null,
      "outputs": []
    },
    {
      "cell_type": "code",
      "source": [],
      "metadata": {
        "id": "eFThNCv1VSB-"
      },
      "execution_count": null,
      "outputs": []
    }
  ]
}