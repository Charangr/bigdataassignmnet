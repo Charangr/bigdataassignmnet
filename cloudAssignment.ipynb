{
  "nbformat": 4,
  "nbformat_minor": 0,
  "metadata": {
    "colab": {
      "provenance": [],
      "authorship_tag": "ABX9TyOfMjoYsExbFhWzUOS5M9Ro",
      "include_colab_link": true
    },
    "kernelspec": {
      "name": "python3",
      "display_name": "Python 3"
    },
    "language_info": {
      "name": "python"
    }
  },
  "cells": [
    {
      "cell_type": "markdown",
      "metadata": {
        "id": "view-in-github",
        "colab_type": "text"
      },
      "source": [
        "<a href=\"https://colab.research.google.com/github/Charangr/bigdataassignmnet/blob/main/cloudAssignment.ipynb\" target=\"_parent\"><img src=\"https://colab.research.google.com/assets/colab-badge.svg\" alt=\"Open In Colab\"/></a>"
      ]
    },
    {
      "cell_type": "code",
      "execution_count": 1,
      "metadata": {
        "colab": {
          "base_uri": "https://localhost:8080/",
          "height": 90
        },
        "id": "6LmvPUfWxy5m",
        "outputId": "2fa0a497-16bf-4043-d459-99e8dcfac6ee"
      },
      "outputs": [
        {
          "output_type": "display_data",
          "data": {
            "text/plain": [
              "<IPython.core.display.HTML object>"
            ],
            "text/html": [
              "\n",
              "     <input type=\"file\" id=\"files-48c47ffd-7417-478e-81b1-05a3cc986d60\" name=\"files[]\" multiple disabled\n",
              "        style=\"border:none\" />\n",
              "     <output id=\"result-48c47ffd-7417-478e-81b1-05a3cc986d60\">\n",
              "      Upload widget is only available when the cell has been executed in the\n",
              "      current browser session. Please rerun this cell to enable.\n",
              "      </output>\n",
              "      <script>// Copyright 2017 Google LLC\n",
              "//\n",
              "// Licensed under the Apache License, Version 2.0 (the \"License\");\n",
              "// you may not use this file except in compliance with the License.\n",
              "// You may obtain a copy of the License at\n",
              "//\n",
              "//      http://www.apache.org/licenses/LICENSE-2.0\n",
              "//\n",
              "// Unless required by applicable law or agreed to in writing, software\n",
              "// distributed under the License is distributed on an \"AS IS\" BASIS,\n",
              "// WITHOUT WARRANTIES OR CONDITIONS OF ANY KIND, either express or implied.\n",
              "// See the License for the specific language governing permissions and\n",
              "// limitations under the License.\n",
              "\n",
              "/**\n",
              " * @fileoverview Helpers for google.colab Python module.\n",
              " */\n",
              "(function(scope) {\n",
              "function span(text, styleAttributes = {}) {\n",
              "  const element = document.createElement('span');\n",
              "  element.textContent = text;\n",
              "  for (const key of Object.keys(styleAttributes)) {\n",
              "    element.style[key] = styleAttributes[key];\n",
              "  }\n",
              "  return element;\n",
              "}\n",
              "\n",
              "// Max number of bytes which will be uploaded at a time.\n",
              "const MAX_PAYLOAD_SIZE = 100 * 1024;\n",
              "\n",
              "function _uploadFiles(inputId, outputId) {\n",
              "  const steps = uploadFilesStep(inputId, outputId);\n",
              "  const outputElement = document.getElementById(outputId);\n",
              "  // Cache steps on the outputElement to make it available for the next call\n",
              "  // to uploadFilesContinue from Python.\n",
              "  outputElement.steps = steps;\n",
              "\n",
              "  return _uploadFilesContinue(outputId);\n",
              "}\n",
              "\n",
              "// This is roughly an async generator (not supported in the browser yet),\n",
              "// where there are multiple asynchronous steps and the Python side is going\n",
              "// to poll for completion of each step.\n",
              "// This uses a Promise to block the python side on completion of each step,\n",
              "// then passes the result of the previous step as the input to the next step.\n",
              "function _uploadFilesContinue(outputId) {\n",
              "  const outputElement = document.getElementById(outputId);\n",
              "  const steps = outputElement.steps;\n",
              "\n",
              "  const next = steps.next(outputElement.lastPromiseValue);\n",
              "  return Promise.resolve(next.value.promise).then((value) => {\n",
              "    // Cache the last promise value to make it available to the next\n",
              "    // step of the generator.\n",
              "    outputElement.lastPromiseValue = value;\n",
              "    return next.value.response;\n",
              "  });\n",
              "}\n",
              "\n",
              "/**\n",
              " * Generator function which is called between each async step of the upload\n",
              " * process.\n",
              " * @param {string} inputId Element ID of the input file picker element.\n",
              " * @param {string} outputId Element ID of the output display.\n",
              " * @return {!Iterable<!Object>} Iterable of next steps.\n",
              " */\n",
              "function* uploadFilesStep(inputId, outputId) {\n",
              "  const inputElement = document.getElementById(inputId);\n",
              "  inputElement.disabled = false;\n",
              "\n",
              "  const outputElement = document.getElementById(outputId);\n",
              "  outputElement.innerHTML = '';\n",
              "\n",
              "  const pickedPromise = new Promise((resolve) => {\n",
              "    inputElement.addEventListener('change', (e) => {\n",
              "      resolve(e.target.files);\n",
              "    });\n",
              "  });\n",
              "\n",
              "  const cancel = document.createElement('button');\n",
              "  inputElement.parentElement.appendChild(cancel);\n",
              "  cancel.textContent = 'Cancel upload';\n",
              "  const cancelPromise = new Promise((resolve) => {\n",
              "    cancel.onclick = () => {\n",
              "      resolve(null);\n",
              "    };\n",
              "  });\n",
              "\n",
              "  // Wait for the user to pick the files.\n",
              "  const files = yield {\n",
              "    promise: Promise.race([pickedPromise, cancelPromise]),\n",
              "    response: {\n",
              "      action: 'starting',\n",
              "    }\n",
              "  };\n",
              "\n",
              "  cancel.remove();\n",
              "\n",
              "  // Disable the input element since further picks are not allowed.\n",
              "  inputElement.disabled = true;\n",
              "\n",
              "  if (!files) {\n",
              "    return {\n",
              "      response: {\n",
              "        action: 'complete',\n",
              "      }\n",
              "    };\n",
              "  }\n",
              "\n",
              "  for (const file of files) {\n",
              "    const li = document.createElement('li');\n",
              "    li.append(span(file.name, {fontWeight: 'bold'}));\n",
              "    li.append(span(\n",
              "        `(${file.type || 'n/a'}) - ${file.size} bytes, ` +\n",
              "        `last modified: ${\n",
              "            file.lastModifiedDate ? file.lastModifiedDate.toLocaleDateString() :\n",
              "                                    'n/a'} - `));\n",
              "    const percent = span('0% done');\n",
              "    li.appendChild(percent);\n",
              "\n",
              "    outputElement.appendChild(li);\n",
              "\n",
              "    const fileDataPromise = new Promise((resolve) => {\n",
              "      const reader = new FileReader();\n",
              "      reader.onload = (e) => {\n",
              "        resolve(e.target.result);\n",
              "      };\n",
              "      reader.readAsArrayBuffer(file);\n",
              "    });\n",
              "    // Wait for the data to be ready.\n",
              "    let fileData = yield {\n",
              "      promise: fileDataPromise,\n",
              "      response: {\n",
              "        action: 'continue',\n",
              "      }\n",
              "    };\n",
              "\n",
              "    // Use a chunked sending to avoid message size limits. See b/62115660.\n",
              "    let position = 0;\n",
              "    do {\n",
              "      const length = Math.min(fileData.byteLength - position, MAX_PAYLOAD_SIZE);\n",
              "      const chunk = new Uint8Array(fileData, position, length);\n",
              "      position += length;\n",
              "\n",
              "      const base64 = btoa(String.fromCharCode.apply(null, chunk));\n",
              "      yield {\n",
              "        response: {\n",
              "          action: 'append',\n",
              "          file: file.name,\n",
              "          data: base64,\n",
              "        },\n",
              "      };\n",
              "\n",
              "      let percentDone = fileData.byteLength === 0 ?\n",
              "          100 :\n",
              "          Math.round((position / fileData.byteLength) * 100);\n",
              "      percent.textContent = `${percentDone}% done`;\n",
              "\n",
              "    } while (position < fileData.byteLength);\n",
              "  }\n",
              "\n",
              "  // All done.\n",
              "  yield {\n",
              "    response: {\n",
              "      action: 'complete',\n",
              "    }\n",
              "  };\n",
              "}\n",
              "\n",
              "scope.google = scope.google || {};\n",
              "scope.google.colab = scope.google.colab || {};\n",
              "scope.google.colab._files = {\n",
              "  _uploadFiles,\n",
              "  _uploadFilesContinue,\n",
              "};\n",
              "})(self);\n",
              "</script> "
            ]
          },
          "metadata": {}
        },
        {
          "output_type": "stream",
          "name": "stdout",
          "text": [
            "Saving kaggle.json to kaggle.json\n"
          ]
        },
        {
          "output_type": "execute_result",
          "data": {
            "text/plain": [
              "{'kaggle.json': b'{\"username\":\"charan1234444444432\",\"key\":\"185ff62cc4d845bf7ed233291684cd5f\"}'}"
            ]
          },
          "metadata": {},
          "execution_count": 1
        }
      ],
      "source": [
        "from google.colab import files\n",
        "files.upload()  # Upload kaggle.json file here\n"
      ]
    },
    {
      "cell_type": "code",
      "source": [
        "import os\n",
        "\n",
        "# Create .kaggle directory and copy the token file\n",
        "!mkdir -p ~/.kaggle\n",
        "!cp kaggle.json ~/.kaggle/\n",
        "!chmod 600 ~/.kaggle/kaggle.json\n"
      ],
      "metadata": {
        "id": "3iMPfA07zn4M"
      },
      "execution_count": 2,
      "outputs": []
    },
    {
      "cell_type": "code",
      "source": [
        "\n",
        "!pip install kaggle\n",
        "!kaggle datasets download -d arvindnagaonkar/flight-delay\n",
        "!unzip flight-delay.zip\n"
      ],
      "metadata": {
        "colab": {
          "base_uri": "https://localhost:8080/",
          "height": 0
        },
        "id": "jnpB8DBIzvjR",
        "outputId": "7981604a-9c4d-48e5-91ed-e43197c810c5"
      },
      "execution_count": 3,
      "outputs": [
        {
          "output_type": "stream",
          "name": "stdout",
          "text": [
            "Requirement already satisfied: kaggle in /usr/local/lib/python3.10/dist-packages (1.6.17)\n",
            "Requirement already satisfied: six>=1.10 in /usr/local/lib/python3.10/dist-packages (from kaggle) (1.17.0)\n",
            "Requirement already satisfied: certifi>=2023.7.22 in /usr/local/lib/python3.10/dist-packages (from kaggle) (2024.12.14)\n",
            "Requirement already satisfied: python-dateutil in /usr/local/lib/python3.10/dist-packages (from kaggle) (2.8.2)\n",
            "Requirement already satisfied: requests in /usr/local/lib/python3.10/dist-packages (from kaggle) (2.32.3)\n",
            "Requirement already satisfied: tqdm in /usr/local/lib/python3.10/dist-packages (from kaggle) (4.67.1)\n",
            "Requirement already satisfied: python-slugify in /usr/local/lib/python3.10/dist-packages (from kaggle) (8.0.4)\n",
            "Requirement already satisfied: urllib3 in /usr/local/lib/python3.10/dist-packages (from kaggle) (2.2.3)\n",
            "Requirement already satisfied: bleach in /usr/local/lib/python3.10/dist-packages (from kaggle) (6.2.0)\n",
            "Requirement already satisfied: webencodings in /usr/local/lib/python3.10/dist-packages (from bleach->kaggle) (0.5.1)\n",
            "Requirement already satisfied: text-unidecode>=1.3 in /usr/local/lib/python3.10/dist-packages (from python-slugify->kaggle) (1.3)\n",
            "Requirement already satisfied: charset-normalizer<4,>=2 in /usr/local/lib/python3.10/dist-packages (from requests->kaggle) (3.4.0)\n",
            "Requirement already satisfied: idna<4,>=2.5 in /usr/local/lib/python3.10/dist-packages (from requests->kaggle) (3.10)\n",
            "Dataset URL: https://www.kaggle.com/datasets/arvindnagaonkar/flight-delay\n",
            "License(s): CC0-1.0\n",
            "Downloading flight-delay.zip to /content\n",
            " 99% 1.09G/1.10G [00:17<00:00, 87.1MB/s]\n",
            "100% 1.10G/1.10G [00:17<00:00, 67.0MB/s]\n",
            "Archive:  flight-delay.zip\n",
            "  inflating: Flight_Delay.parquet    \n",
            "  inflating: features_added.parquet  \n"
          ]
        }
      ]
    },
    {
      "cell_type": "markdown",
      "source": [
        "Driver:\n",
        "\n",
        "The driver (allocated 1 core and 2 GB memory) orchestrates the execution plan.\n",
        "It sends tasks to the executors for distributed computation.\n",
        "Executors:\n",
        "\n",
        "Each of the 4 executors gets 5 GB of memory and 3 cores.\n",
        "Executors perform the actual transformations and actions on the data in parallel.\n",
        "Parallelism:\n",
        "\n",
        "With 4 executors, each using 3 cores, your application can run up to 12 tasks concurrently.**bold text**"
      ],
      "metadata": {
        "id": "ySaLz1hnK8P0"
      }
    },
    {
      "cell_type": "code",
      "source": [
        "from pyspark.sql import SparkSession\n",
        "from pyspark.sql.functions import col, lit, expr, concat, sum as _sum\n",
        "from pyspark.sql.types import DateType\n",
        "\n",
        "\n",
        "spark = SparkSession.builder \\\n",
        "    .appName(\"Flight Delay Analysis\") \\\n",
        "    .master(\"local[*]\") \\\n",
        "    .config(\"spark.executor.memory\", \"5g\") \\\n",
        "    .config(\"spark.executor.cores\", \"3\") \\\n",
        "    .config(\"spark.executor.instances\", \"4\") \\\n",
        "    .config(\"spark.driver.memory\", \"2g\") \\\n",
        "    .config(\"spark.driver.cores\", \"1\") \\\n",
        "    .config(\"spark.sql.debug.maxToStringFields\", \"100\") \\\n",
        "    .getOrCreate()\n",
        "\n",
        "\n",
        "spark.sparkContext.getConf().getAll()\n"
      ],
      "metadata": {
        "colab": {
          "base_uri": "https://localhost:8080/",
          "height": 0
        },
        "id": "U0742P-x0TcT",
        "outputId": "15e16784-9dce-4f6f-ca0f-889488ccbcc0"
      },
      "execution_count": 4,
      "outputs": [
        {
          "output_type": "execute_result",
          "data": {
            "text/plain": [
              "[('spark.executor.instances', '4'),\n",
              " ('spark.driver.extraJavaOptions',\n",
              "  '-Djava.net.preferIPv6Addresses=false -XX:+IgnoreUnrecognizedVMOptions --add-opens=java.base/java.lang=ALL-UNNAMED --add-opens=java.base/java.lang.invoke=ALL-UNNAMED --add-opens=java.base/java.lang.reflect=ALL-UNNAMED --add-opens=java.base/java.io=ALL-UNNAMED --add-opens=java.base/java.net=ALL-UNNAMED --add-opens=java.base/java.nio=ALL-UNNAMED --add-opens=java.base/java.util=ALL-UNNAMED --add-opens=java.base/java.util.concurrent=ALL-UNNAMED --add-opens=java.base/java.util.concurrent.atomic=ALL-UNNAMED --add-opens=java.base/jdk.internal.ref=ALL-UNNAMED --add-opens=java.base/sun.nio.ch=ALL-UNNAMED --add-opens=java.base/sun.nio.cs=ALL-UNNAMED --add-opens=java.base/sun.security.action=ALL-UNNAMED --add-opens=java.base/sun.util.calendar=ALL-UNNAMED --add-opens=java.security.jgss/sun.security.krb5=ALL-UNNAMED -Djdk.reflect.useDirectMethodHandle=false'),\n",
              " ('spark.executor.id', 'driver'),\n",
              " ('spark.app.name', 'Flight Delay Analysis'),\n",
              " ('spark.executor.memory', '5g'),\n",
              " ('spark.app.startTime', '1734575394455'),\n",
              " ('spark.driver.host', 'f3cda0bb903a'),\n",
              " ('spark.sql.debug.maxToStringFields', '100'),\n",
              " ('spark.rdd.compress', 'True'),\n",
              " ('spark.driver.port', '36081'),\n",
              " ('spark.executor.extraJavaOptions',\n",
              "  '-Djava.net.preferIPv6Addresses=false -XX:+IgnoreUnrecognizedVMOptions --add-opens=java.base/java.lang=ALL-UNNAMED --add-opens=java.base/java.lang.invoke=ALL-UNNAMED --add-opens=java.base/java.lang.reflect=ALL-UNNAMED --add-opens=java.base/java.io=ALL-UNNAMED --add-opens=java.base/java.net=ALL-UNNAMED --add-opens=java.base/java.nio=ALL-UNNAMED --add-opens=java.base/java.util=ALL-UNNAMED --add-opens=java.base/java.util.concurrent=ALL-UNNAMED --add-opens=java.base/java.util.concurrent.atomic=ALL-UNNAMED --add-opens=java.base/jdk.internal.ref=ALL-UNNAMED --add-opens=java.base/sun.nio.ch=ALL-UNNAMED --add-opens=java.base/sun.nio.cs=ALL-UNNAMED --add-opens=java.base/sun.security.action=ALL-UNNAMED --add-opens=java.base/sun.util.calendar=ALL-UNNAMED --add-opens=java.security.jgss/sun.security.krb5=ALL-UNNAMED -Djdk.reflect.useDirectMethodHandle=false'),\n",
              " ('spark.driver.memory', '2g'),\n",
              " ('spark.app.id', 'local-1734575396518'),\n",
              " ('spark.serializer.objectStreamReset', '100'),\n",
              " ('spark.master', 'local[*]'),\n",
              " ('spark.submit.pyFiles', ''),\n",
              " ('spark.executor.cores', '3'),\n",
              " ('spark.submit.deployMode', 'client'),\n",
              " ('spark.ui.showConsoleProgress', 'true'),\n",
              " ('spark.driver.cores', '1'),\n",
              " ('spark.app.submitTime', '1734575394133')]"
            ]
          },
          "metadata": {},
          "execution_count": 4
        }
      ]
    },
    {
      "cell_type": "code",
      "source": [
        "\n",
        "data_path = \"Flight_Delay.parquet\"\n",
        "df = spark.read.parquet(data_path)\n",
        "\n",
        "\n",
        "total_rows = df.count()\n",
        "print(f\"Total Rows in Dataset: {total_rows}\")"
      ],
      "metadata": {
        "colab": {
          "base_uri": "https://localhost:8080/",
          "height": 0
        },
        "id": "CNuwhpIqAQ5f",
        "outputId": "acec93af-b674-47a4-c1a1-b69c2cff51b8"
      },
      "execution_count": 5,
      "outputs": [
        {
          "output_type": "stream",
          "name": "stdout",
          "text": [
            "Total Rows in Dataset: 30132672\n"
          ]
        }
      ]
    },
    {
      "cell_type": "code",
      "source": [
        "\n",
        "dataset_path = \"/content/Flight_Delay.parquet\"\n",
        "features_path = \"/content/features_added.parquet\"\n",
        "\n",
        "\n",
        "flight_delay_df = spark.read.parquet(dataset_path)\n",
        "features_added_df = spark.read.parquet(features_path)\n",
        "\n",
        "\n",
        "flight_delay_df.show(5)\n",
        "features_added_df.show(5)\n"
      ],
      "metadata": {
        "colab": {
          "base_uri": "https://localhost:8080/",
          "height": 0
        },
        "id": "GVuhCogR0ZNH",
        "outputId": "498a3ea0-55ca-4f3c-a525-6c025ea004a8"
      },
      "execution_count": 6,
      "outputs": [
        {
          "output_type": "stream",
          "name": "stdout",
          "text": [
            "+----+-----+----------+----------+-------------------------+--------------+--------------+----------+-------+--------+---------------+-------+---------+--------+------+----------+-------+--------+---------------+--------------+-----------------+-------+--------+-------------+------------+------------+--------+-------------+-----------------+-----------------+\n",
            "|Year|Month|DayofMonth|FlightDate|Marketing_Airline_Network|OriginCityName|  DestCityName|CRSDepTime|DepTime|DepDelay|DepDelayMinutes|TaxiOut|WheelsOff|WheelsOn|TaxiIn|CRSArrTime|ArrTime|ArrDelay|ArrDelayMinutes|CRSElapsedTime|ActualElapsedTime|AirTime|Distance|DistanceGroup|CarrierDelay|WeatherDelay|NASDelay|SecurityDelay|LateAircraftDelay|__index_level_0__|\n",
            "+----+-----+----------+----------+-------------------------+--------------+--------------+----------+-------+--------+---------------+-------+---------+--------+------+----------+-------+--------+---------------+--------------+-----------------+-------+--------+-------------+------------+------------+--------+-------------+-----------------+-----------------+\n",
            "|2018|    1|        15|2018-01-15|                       UA|    Newark, NJ|Charleston, SC|      1845| 1928.0|    43.0|           43.0|   35.0|   2003.0|  2145.0|   4.0|      2108| 2149.0|    41.0|           41.0|         143.0|            141.0|  102.0|   628.0|            3|        41.0|         0.0|     0.0|          0.0|              0.0|                1|\n",
            "|2018|    1|        16|2018-01-16|                       UA|    Newark, NJ|Charleston, SC|      1835| 1956.0|    81.0|           81.0|   18.0|   2014.0|  2202.0|   5.0|      2058| 2207.0|    69.0|           69.0|         143.0|            131.0|  108.0|   628.0|            3|        67.0|         0.0|     0.0|          0.0|              2.0|                2|\n",
            "|2018|    1|        17|2018-01-17|                       UA|    Newark, NJ|Charleston, SC|      1835| 1836.0|     1.0|            1.0|   19.0|   1855.0|  2048.0|   6.0|      2058| 2054.0|    -4.0|            0.0|         143.0|            138.0|  113.0|   628.0|            3|         0.0|         0.0|     0.0|          0.0|              0.0|                3|\n",
            "|2018|    1|        18|2018-01-18|                       UA|    Newark, NJ|Charleston, SC|      1845| 1844.0|    -1.0|            0.0|   36.0|   1920.0|  2052.0|   6.0|      2108| 2058.0|   -10.0|            0.0|         143.0|            134.0|   92.0|   628.0|            3|         0.0|         0.0|     0.0|          0.0|              0.0|                4|\n",
            "|2018|    1|        20|2018-01-20|                       UA|    Newark, NJ|Charleston, SC|      1835| 1829.0|    -6.0|            0.0|   22.0|   1851.0|  2020.0|   6.0|      2058| 2026.0|   -32.0|            0.0|         143.0|            117.0|   89.0|   628.0|            3|         0.0|         0.0|     0.0|          0.0|              0.0|                6|\n",
            "+----+-----+----------+----------+-------------------------+--------------+--------------+----------+-------+--------+---------------+-------+---------+--------+------+----------+-------+--------+---------------+--------------+-----------------+-------+--------+-------------+------------+------------+--------+-------------+-----------------+-----------------+\n",
            "only showing top 5 rows\n",
            "\n",
            "+----+-----+----------+-------------------+-------------------------+--------------+--------------+-------+--------+---------------+-------+------+-------+--------+---------------+--------------+-----------------+-------+--------+-------------+------------+------------+--------+-------------+-----------------+---------+--------+----------------+--------------+---------------+-------------+----------------+--------------+--------------+------------+-----------------+----------------+-----------------+---------------+-------------------+-----------------+\n",
            "|Year|Month|DayofMonth|         FlightDate|Marketing_Airline_Network|OriginCityName|  DestCityName|DepTime|DepDelay|DepDelayMinutes|TaxiOut|TaxiIn|ArrTime|ArrDelay|ArrDelayMinutes|CRSElapsedTime|ActualElapsedTime|AirTime|Distance|DistanceGroup|CarrierDelay|WeatherDelay|NASDelay|SecurityDelay|LateAircraftDelay|DayofWeek|Holidays|CRSDepTimeMinute|CRSDepTimeHour|WheelsOffMinute|WheelsOffHour|CRSArrTimeMinute|CRSArrTimeHour|WheelsOnMinute|WheelsOnHour|CRSDepTimeHourDis|WheelsOffHourDis|CRSArrTimeHourDis|WheelsOnHourDis|CRSElapsedTimeGorup|__index_level_0__|\n",
            "+----+-----+----------+-------------------+-------------------------+--------------+--------------+-------+--------+---------------+-------+------+-------+--------+---------------+--------------+-----------------+-------+--------+-------------+------------+------------+--------+-------------+-----------------+---------+--------+----------------+--------------+---------------+-------------+----------------+--------------+--------------+------------+-----------------+----------------+-----------------+---------------+-------------------+-----------------+\n",
            "|2018|    1|        15|2018-01-15 00:00:00|                       UA|    Newark, NJ|Charleston, SC| 1928.0|    43.0|           43.0|   35.0|   4.0| 2149.0|    41.0|           41.0|         143.0|            141.0|  102.0|   628.0|            3|        41.0|         0.0|     0.0|          0.0|              0.0|        0|    true|              45|            18|              3|           20|               8|            21|            45|          21|          Evening|         Evening|            Night|          Night|                  3|                1|\n",
            "|2018|    1|        16|2018-01-16 00:00:00|                       UA|    Newark, NJ|Charleston, SC| 1956.0|    81.0|           81.0|   18.0|   5.0| 2207.0|    69.0|           69.0|         143.0|            131.0|  108.0|   628.0|            3|        67.0|         0.0|     0.0|          0.0|              2.0|        1|   false|              35|            18|             14|           20|              58|            20|             2|          22|          Evening|         Evening|          Evening|          Night|                  3|                2|\n",
            "|2018|    1|        17|2018-01-17 00:00:00|                       UA|    Newark, NJ|Charleston, SC| 1836.0|     1.0|            1.0|   19.0|   6.0| 2054.0|    -4.0|            0.0|         143.0|            138.0|  113.0|   628.0|            3|         0.0|         0.0|     0.0|          0.0|              0.0|        2|   false|              35|            18|             55|           18|              58|            20|            48|          20|          Evening|         Evening|          Evening|        Evening|                  3|                3|\n",
            "|2018|    1|        18|2018-01-18 00:00:00|                       UA|    Newark, NJ|Charleston, SC| 1844.0|    -1.0|            0.0|   36.0|   6.0| 2058.0|   -10.0|            0.0|         143.0|            134.0|   92.0|   628.0|            3|         0.0|         0.0|     0.0|          0.0|              0.0|        3|   false|              45|            18|             20|           19|               8|            21|            52|          20|          Evening|         Evening|            Night|        Evening|                  3|                4|\n",
            "|2018|    1|        20|2018-01-20 00:00:00|                       UA|    Newark, NJ|Charleston, SC| 1829.0|    -6.0|            0.0|   22.0|   6.0| 2026.0|   -32.0|            0.0|         143.0|            117.0|   89.0|   628.0|            3|         0.0|         0.0|     0.0|          0.0|              0.0|        5|   false|              35|            18|             51|           18|              58|            20|            20|          20|          Evening|         Evening|          Evening|        Evening|                  3|                6|\n",
            "+----+-----+----------+-------------------+-------------------------+--------------+--------------+-------+--------+---------------+-------+------+-------+--------+---------------+--------------+-----------------+-------+--------+-------------+------------+------------+--------+-------------+-----------------+---------+--------+----------------+--------------+---------------+-------------+----------------+--------------+--------------+------------+-----------------+----------------+-----------------+---------------+-------------------+-----------------+\n",
            "only showing top 5 rows\n",
            "\n"
          ]
        }
      ]
    },
    {
      "cell_type": "code",
      "source": [
        "sample_fraction = 0.020\n",
        "sampled_df = df.sample(fraction=sample_fraction, seed=42)"
      ],
      "metadata": {
        "id": "NzcUM4kZARGi"
      },
      "execution_count": 9,
      "outputs": []
    },
    {
      "cell_type": "code",
      "source": [
        "sampled_count = sampled_df.count()\n",
        "print(f\"Sampled Row Count: {sampled_count}\")"
      ],
      "metadata": {
        "colab": {
          "base_uri": "https://localhost:8080/",
          "height": 0
        },
        "id": "BN4k0KqWARRz",
        "outputId": "6c00a1ab-1da6-4cde-8d9c-bc649d3cc2b7"
      },
      "execution_count": 10,
      "outputs": [
        {
          "output_type": "stream",
          "name": "stdout",
          "text": [
            "Sampled Row Count: 603055\n"
          ]
        }
      ]
    },
    {
      "cell_type": "code",
      "source": [
        "print(f\"Number of partitions: {sampled_df.rdd.getNumPartitions()}\")\n"
      ],
      "metadata": {
        "colab": {
          "base_uri": "https://localhost:8080/",
          "height": 0
        },
        "id": "sLpJmZYkDZFv",
        "outputId": "aba8b21a-770d-4a81-c2df-5e1e0d1735c4"
      },
      "execution_count": 11,
      "outputs": [
        {
          "output_type": "stream",
          "name": "stdout",
          "text": [
            "Number of partitions: 6\n"
          ]
        }
      ]
    },
    {
      "cell_type": "code",
      "source": [
        "sampled_df.show(10)\n"
      ],
      "metadata": {
        "colab": {
          "base_uri": "https://localhost:8080/",
          "height": 0
        },
        "id": "iItyHGLpDg2r",
        "outputId": "68a32118-a5b5-4817-c07a-f0579558af76"
      },
      "execution_count": 12,
      "outputs": [
        {
          "output_type": "stream",
          "name": "stdout",
          "text": [
            "+----+-----+----------+----------+-------------------------+-------------------+----------------+----------+-------+--------+---------------+-------+---------+--------+------+----------+-------+--------+---------------+--------------+-----------------+-------+--------+-------------+------------+------------+--------+-------------+-----------------+-----------------+\n",
            "|Year|Month|DayofMonth|FlightDate|Marketing_Airline_Network|     OriginCityName|    DestCityName|CRSDepTime|DepTime|DepDelay|DepDelayMinutes|TaxiOut|WheelsOff|WheelsOn|TaxiIn|CRSArrTime|ArrTime|ArrDelay|ArrDelayMinutes|CRSElapsedTime|ActualElapsedTime|AirTime|Distance|DistanceGroup|CarrierDelay|WeatherDelay|NASDelay|SecurityDelay|LateAircraftDelay|__index_level_0__|\n",
            "+----+-----+----------+----------+-------------------------+-------------------+----------------+----------+-------+--------+---------------+-------+---------+--------+------+----------+-------+--------+---------------+--------------+-----------------+-------+--------+-------------+------------+------------+--------+-------------+-----------------+-----------------+\n",
            "|2018|    1|        24|2018-01-24|                       UA|        Houston, TX|      Monroe, LA|      2125| 2115.0|   -10.0|            0.0|   11.0|   2126.0|  2210.0|   5.0|      2239| 2215.0|   -24.0|            0.0|          74.0|             60.0|   44.0|   262.0|            2|         0.0|         0.0|     0.0|          0.0|              0.0|               71|\n",
            "|2018|    1|        14|2018-01-14|                       UA|Gulfport/Biloxi, MS|     Houston, TX|      1515| 1502.0|   -13.0|            0.0|   10.0|   1512.0|  1620.0|   5.0|      1651| 1625.0|   -26.0|            0.0|          96.0|             83.0|   68.0|   376.0|            2|         0.0|         0.0|     0.0|          0.0|              0.0|              112|\n",
            "|2018|    1|         6|2018-01-06|                       UA|        Chicago, IL| Springfield, MO|      1235| 1224.0|   -11.0|            0.0|   26.0|   1250.0|  1405.0|  15.0|      1425| 1420.0|    -5.0|            0.0|         110.0|            116.0|   75.0|   438.0|            2|         0.0|         0.0|     0.0|          0.0|              0.0|              296|\n",
            "|2018|    1|        20|2018-01-20|                       UA|        Houston, TX|    Amarillo, TX|       940| 1119.0|    99.0|           99.0|   14.0|   1133.0|  1246.0|   3.0|      1131| 1249.0|    78.0|           78.0|         111.0|             90.0|   73.0|   517.0|            3|         0.0|         0.0|     0.0|          0.0|             78.0|              350|\n",
            "|2018|    1|        31|2018-01-31|                       UA|         Newark, NJ|Indianapolis, IN|       835|  832.0|    -3.0|            0.0|   20.0|    852.0|  1043.0|   7.0|      1106| 1050.0|   -16.0|            0.0|         151.0|            138.0|  111.0|   645.0|            3|         0.0|         0.0|     0.0|          0.0|              0.0|              416|\n",
            "|2018|    1|         2|2018-01-02|                       DL|        Atlanta, GA|  Huntsville, AL|      1217| 1315.0|    58.0|           58.0|   19.0|   1334.0|  1306.0|   3.0|      1220| 1309.0|    49.0|           49.0|          63.0|             54.0|   32.0|   151.0|            1|        49.0|         0.0|     0.0|          0.0|              0.0|              446|\n",
            "|2018|    1|         2|2018-01-02|                       DL|       Richmond, VA|     Detroit, MI|      1240| 1314.0|    34.0|           34.0|   14.0|   1328.0|  1449.0|   8.0|      1441| 1457.0|    16.0|           16.0|         121.0|            103.0|   81.0|   456.0|            2|         0.0|         0.0|     0.0|          0.0|             16.0|              468|\n",
            "|2018|    1|         2|2018-01-02|                       DL|        Atlanta, GA|   Lexington, KY|      2234|   16.0|   102.0|          102.0|    8.0|     24.0|   111.0|   4.0|      2355|  115.0|    80.0|           80.0|          81.0|             59.0|   47.0|   304.0|            2|        80.0|         0.0|     0.0|          0.0|              0.0|              517|\n",
            "|2018|    1|         2|2018-01-02|                       DL|     Pittsburgh, PA|    New York, NY|       930|  921.0|    -9.0|            0.0|   32.0|    953.0|  1051.0|  11.0|      1109| 1102.0|    -7.0|            0.0|          99.0|            101.0|   58.0|   335.0|            2|         0.0|         0.0|     0.0|          0.0|              0.0|              523|\n",
            "|2018|    1|         2|2018-01-02|                       DL|       Savannah, GA|    New York, NY|      1259| 1255.0|    -4.0|            0.0|   21.0|   1316.0|  1450.0|   7.0|      1507| 1457.0|   -10.0|            0.0|         128.0|            122.0|   94.0|   722.0|            3|         0.0|         0.0|     0.0|          0.0|              0.0|              546|\n",
            "+----+-----+----------+----------+-------------------------+-------------------+----------------+----------+-------+--------+---------------+-------+---------+--------+------+----------+-------+--------+---------------+--------------+-----------------+-------+--------+-------------+------------+------------+--------+-------------+-----------------+-----------------+\n",
            "only showing top 10 rows\n",
            "\n"
          ]
        }
      ]
    },
    {
      "cell_type": "code",
      "source": [
        "sampled_df.printSchema()"
      ],
      "metadata": {
        "colab": {
          "base_uri": "https://localhost:8080/",
          "height": 0
        },
        "id": "j3nyKQctDkus",
        "outputId": "e0e788ea-3e07-4549-8939-8924b5c23a72"
      },
      "execution_count": 13,
      "outputs": [
        {
          "output_type": "stream",
          "name": "stdout",
          "text": [
            "root\n",
            " |-- Year: long (nullable = true)\n",
            " |-- Month: long (nullable = true)\n",
            " |-- DayofMonth: long (nullable = true)\n",
            " |-- FlightDate: string (nullable = true)\n",
            " |-- Marketing_Airline_Network: string (nullable = true)\n",
            " |-- OriginCityName: string (nullable = true)\n",
            " |-- DestCityName: string (nullable = true)\n",
            " |-- CRSDepTime: long (nullable = true)\n",
            " |-- DepTime: double (nullable = true)\n",
            " |-- DepDelay: double (nullable = true)\n",
            " |-- DepDelayMinutes: double (nullable = true)\n",
            " |-- TaxiOut: double (nullable = true)\n",
            " |-- WheelsOff: double (nullable = true)\n",
            " |-- WheelsOn: double (nullable = true)\n",
            " |-- TaxiIn: double (nullable = true)\n",
            " |-- CRSArrTime: long (nullable = true)\n",
            " |-- ArrTime: double (nullable = true)\n",
            " |-- ArrDelay: double (nullable = true)\n",
            " |-- ArrDelayMinutes: double (nullable = true)\n",
            " |-- CRSElapsedTime: double (nullable = true)\n",
            " |-- ActualElapsedTime: double (nullable = true)\n",
            " |-- AirTime: double (nullable = true)\n",
            " |-- Distance: double (nullable = true)\n",
            " |-- DistanceGroup: long (nullable = true)\n",
            " |-- CarrierDelay: double (nullable = true)\n",
            " |-- WeatherDelay: double (nullable = true)\n",
            " |-- NASDelay: double (nullable = true)\n",
            " |-- SecurityDelay: double (nullable = true)\n",
            " |-- LateAircraftDelay: double (nullable = true)\n",
            " |-- __index_level_0__: long (nullable = true)\n",
            "\n"
          ]
        }
      ]
    },
    {
      "cell_type": "code",
      "source": [
        "print(f\"Row Count: {sampled_df.count()}\")\n"
      ],
      "metadata": {
        "colab": {
          "base_uri": "https://localhost:8080/",
          "height": 0
        },
        "id": "ehyCDhOpDqW4",
        "outputId": "3d3fb459-62aa-4895-c944-3ba0a16dd22a"
      },
      "execution_count": 14,
      "outputs": [
        {
          "output_type": "stream",
          "name": "stdout",
          "text": [
            "Row Count: 603055\n"
          ]
        }
      ]
    },
    {
      "cell_type": "code",
      "source": [
        "sampled_df.describe().show()\n"
      ],
      "metadata": {
        "colab": {
          "base_uri": "https://localhost:8080/",
          "height": 0
        },
        "id": "-e0T4sffDvYT",
        "outputId": "1a5084da-44cc-4826-a194-fb2f12da9944"
      },
      "execution_count": 15,
      "outputs": [
        {
          "output_type": "stream",
          "name": "stdout",
          "text": [
            "+-------+------------------+------------------+------------------+----------+-------------------------+--------------+------------+------------------+------------------+------------------+------------------+-----------------+------------------+-----------------+-----------------+------------------+------------------+------------------+------------------+------------------+------------------+------------------+-----------------+-----------------+-----------------+------------------+------------------+--------------------+-----------------+------------------+\n",
            "|summary|              Year|             Month|        DayofMonth|FlightDate|Marketing_Airline_Network|OriginCityName|DestCityName|        CRSDepTime|           DepTime|          DepDelay|   DepDelayMinutes|          TaxiOut|         WheelsOff|         WheelsOn|           TaxiIn|        CRSArrTime|           ArrTime|          ArrDelay|   ArrDelayMinutes|    CRSElapsedTime| ActualElapsedTime|           AirTime|         Distance|    DistanceGroup|     CarrierDelay|      WeatherDelay|          NASDelay|       SecurityDelay|LateAircraftDelay| __index_level_0__|\n",
            "+-------+------------------+------------------+------------------+----------+-------------------------+--------------+------------+------------------+------------------+------------------+------------------+-----------------+------------------+-----------------+-----------------+------------------+------------------+------------------+------------------+------------------+------------------+------------------+-----------------+-----------------+-----------------+------------------+------------------+--------------------+-----------------+------------------+\n",
            "|  count|            603055|            603055|            603055|    603055|                   603055|        603055|      603055|            603055|            603055|            603055|            603055|           603055|            603055|           603055|           603055|            603055|            603055|            603055|            603055|            603055|            603055|            603055|           603055|           603055|           603055|            603055|            603055|              603055|           603055|            603055|\n",
            "|   mean|2020.0911542064987| 6.296258218570445|15.713682831582526|      NULL|                     NULL|          NULL|        NULL|1321.6910232068385|1326.4213098307782|10.531051064994072|14.214550911608393| 16.5161701669002|1349.4336702290836|1456.076049448226|7.452633673545531|1484.0858827138486|1461.4925040004644|3.6868776479757237|14.355849798111283|138.84826425450416|132.00333468754923|108.03461044183366|776.2274054605301|3.579766356302493|5.015976983857194|0.8027808408851598|2.9936506620457504|0.026752120453358317|5.516689190869821|298179.78806079045|\n",
            "| stddev|1.6023197947535226|3.4887878306796365|  8.77697539482611|      NULL|                     NULL|          NULL|        NULL|  484.191944682318|498.31384553379723| 51.59153370772892| 50.42114146293439|9.684225408138158| 499.7800135648049|524.2899262460975|6.001587093300107|507.75589461504416| 527.9318954130099| 54.18921489617726| 50.36441720295831|   70.958821685063| 70.63199662087527| 68.75999583008216|581.8997651398525|2.292410483071091|33.32301661731597|14.356052036792526|16.703244676189186|   1.541069153407621|27.81801837737554|182000.16993791226|\n",
            "|    min|              2018|                 1|                 1|2018-01-01|                       AA|  Aberdeen, SD|Aberdeen, SD|                 1|               1.0|             -92.0|               0.0|              0.0|               1.0|              1.0|              0.0|                 1|               1.0|            -105.0|               0.0|               1.0|              16.0|           -1410.0|             16.0|                1|              0.0|               0.0|               0.0|                 0.0|              0.0|                 1|\n",
            "|    max|              2023|                12|                31|2023-04-30|                       WN|      Yuma, AZ|    Yuma, AZ|              2359|            2400.0|            2369.0|            2369.0|           1439.0|            2400.0|           2400.0|            229.0|              2400|            2400.0|            2371.0|            2371.0|             695.0|             732.0|             691.0|           5095.0|               11|           2365.0|            1747.0|            1366.0|               530.0|           1715.0|            717679|\n",
            "+-------+------------------+------------------+------------------+----------+-------------------------+--------------+------------+------------------+------------------+------------------+------------------+-----------------+------------------+-----------------+-----------------+------------------+------------------+------------------+------------------+------------------+------------------+------------------+-----------------+-----------------+-----------------+------------------+------------------+--------------------+-----------------+------------------+\n",
            "\n"
          ]
        }
      ]
    },
    {
      "cell_type": "code",
      "source": [
        "partition_sizes = sampled_df.rdd.glom().map(len).collect()\n",
        "print(f\"Partition Sizes: {partition_sizes}\")"
      ],
      "metadata": {
        "colab": {
          "base_uri": "https://localhost:8080/",
          "height": 0
        },
        "id": "xLe6QCN9EaDI",
        "outputId": "d11f8402-f477-47d2-cdb7-66dbafa38b88"
      },
      "execution_count": 17,
      "outputs": [
        {
          "output_type": "stream",
          "name": "stdout",
          "text": [
            "Partition Sizes: [0, 0, 603055, 0, 0, 0]\n"
          ]
        }
      ]
    },
    {
      "cell_type": "code",
      "source": [
        "repartitioned_df = sampled_df.repartition(10)\n",
        "print(\"Number of partitions after repartitioning:\", repartitioned_df.rdd.getNumPartitions())\n"
      ],
      "metadata": {
        "colab": {
          "base_uri": "https://localhost:8080/",
          "height": 0
        },
        "id": "O6GBHlLnwhDi",
        "outputId": "21c59bc6-504e-4c9b-d458-6d1fdd9c5039"
      },
      "execution_count": 20,
      "outputs": [
        {
          "output_type": "stream",
          "name": "stdout",
          "text": [
            "Number of partitions after repartitioning: 10\n"
          ]
        }
      ]
    },
    {
      "cell_type": "code",
      "source": [
        "# need to optimize it further\n",
        "repartitioned_df.cache()\n",
        "print(\"Is the DataFrame cached?\", repartitioned_df.is_cached)\n"
      ],
      "metadata": {
        "colab": {
          "base_uri": "https://localhost:8080/",
          "height": 0
        },
        "id": "Rg3eF0WewhG-",
        "outputId": "2c0ecc51-f393-488a-d69c-ea72888dfabf"
      },
      "execution_count": 21,
      "outputs": [
        {
          "output_type": "stream",
          "name": "stdout",
          "text": [
            "Is the DataFrame cached? True\n"
          ]
        }
      ]
    },
    {
      "cell_type": "markdown",
      "source": [
        "we did understand the data until now and optimized the partitioned  data next we need to do data cleaning"
      ],
      "metadata": {
        "id": "QUTGDKch2Ihb"
      }
    },
    {
      "cell_type": "code",
      "source": [
        "cleaned_df = cleaned_df.dropDuplicates()\n"
      ],
      "metadata": {
        "id": "xPdZPn0g129c"
      },
      "execution_count": 22,
      "outputs": []
    },
    {
      "cell_type": "code",
      "source": [
        "cleaned_df = repartitioned_df.dropna(subset=[\"DepDelay\", \"ArrDelay\", \"FlightDate\", \"Marketing_Airline_Network\"])\n"
      ],
      "metadata": {
        "id": "WlNptFKk2a60"
      },
      "execution_count": 23,
      "outputs": []
    },
    {
      "cell_type": "markdown",
      "source": [
        "since we have cleaned the data need to preprocess it accordingly so that we can use the data set for analysis"
      ],
      "metadata": {
        "id": "bLrvG77x2pW_"
      }
    },
    {
      "cell_type": "code",
      "source": [
        "from pyspark.sql.functions import to_date\n",
        "\n",
        "# Convert FlightDate to DateType\n",
        "processed_df = cleaned_df.withColumn(\"FlightDate\", to_date(\"FlightDate\", \"yyyy-MM-dd\"))\n"
      ],
      "metadata": {
        "id": "MtUi5E1D27oF"
      },
      "execution_count": 28,
      "outputs": []
    },
    {
      "cell_type": "code",
      "source": [
        "from pyspark.sql.functions import col\n",
        "processed_df = processed_df.withColumn(\"TotalDelay\", col(\"DepDelay\") + col(\"ArrDelay\"))\n"
      ],
      "metadata": {
        "id": "QCERgk4r27rB"
      },
      "execution_count": 29,
      "outputs": []
    },
    {
      "cell_type": "code",
      "source": [
        "from pyspark.sql.functions import when\n",
        "\n",
        "# Define a dictionary for carrier codes\n",
        "carrier_mapping = {\n",
        "    \"AA\": \"American Airlines\",\n",
        "    \"DL\": \"Delta Airlines\",\n",
        "    \"UA\": \"United Airlines\",\n",
        "    \"WN\": \"Southwest Airlines\",\n",
        "    # Add more mappings as needed\n",
        "}\n",
        "\n",
        "# Map carrier codes to full names\n",
        "processed_df = processed_df.withColumn(\n",
        "    \"CarrierName\",\n",
        "    when(col(\"Marketing_Airline_Network\") == \"AA\", \"American Airlines\")\n",
        "    .when(col(\"Marketing_Airline_Network\") == \"DL\", \"Delta Airlines\")\n",
        "    .when(col(\"Marketing_Airline_Network\") == \"UA\", \"United Airlines\")\n",
        "    .when(col(\"Marketing_Airline_Network\") == \"WN\", \"Southwest Airlines\")\n",
        "    .otherwise(\"Unknown\")\n",
        ")\n"
      ],
      "metadata": {
        "id": "VWHf0zoB27ui"
      },
      "execution_count": 30,
      "outputs": []
    },
    {
      "cell_type": "code",
      "source": [
        "# Define a dictionary for city mappings\n",
        "city_mapping = {\n",
        "    \"ATL\": \"Atlanta\",\n",
        "    \"LAX\": \"Los Angeles\",\n",
        "    \"ORD\": \"Chicago\",\n",
        "    \"DFW\": \"Dallas-Fort Worth\",\n",
        "    \"DEN\": \"Denver\",\n",
        "    # Add more mappings as needed\n",
        "}\n",
        "\n",
        "# Map OriginCityName and DestCityName to full names\n",
        "processed_df = processed_df.withColumn(\n",
        "    \"Origin_City\",\n",
        "    when(col(\"OriginCityName\") == \"ATL\", \"Atlanta\")\n",
        "    .when(col(\"OriginCityName\") == \"LAX\", \"Los Angeles\")\n",
        "    .when(col(\"OriginCityName\") == \"ORD\", \"Chicago\")\n",
        "    .when(col(\"OriginCityName\") == \"DFW\", \"Dallas-Fort Worth\")\n",
        "    .when(col(\"OriginCityName\") == \"DEN\", \"Denver\")\n",
        "    .otherwise(\"Unknown\")\n",
        ")\n",
        "\n",
        "processed_df = processed_df.withColumn(\n",
        "    \"Dest_City\",\n",
        "    when(col(\"DestCityName\") == \"ATL\", \"Atlanta\")\n",
        "    .when(col(\"DestCityName\") == \"LAX\", \"Los Angeles\")\n",
        "    .when(col(\"DestCityName\") == \"ORD\", \"Chicago\")\n",
        "    .when(col(\"DestCityName\") == \"DFW\", \"Dallas-Fort Worth\")\n",
        "    .when(col(\"DestCityName\") == \"DEN\", \"Denver\")\n",
        "    .otherwise(\"Unknown\")\n",
        ")\n"
      ],
      "metadata": {
        "id": "-3aIGoCk4Fmu"
      },
      "execution_count": 31,
      "outputs": []
    },
    {
      "cell_type": "code",
      "source": [
        "from pyspark.sql.functions import dayofweek\n",
        "\n",
        "# Add Weekday column\n",
        "processed_df = processed_df.withColumn(\"Weekday\", dayofweek(\"FlightDate\"))\n"
      ],
      "metadata": {
        "id": "3Cu1NmvS4Kig"
      },
      "execution_count": 32,
      "outputs": []
    },
    {
      "cell_type": "code",
      "source": [
        "\n",
        "processed_df = processed_df.withColumn(\"IsDelayed\", col(\"TotalDelay\") > 15)\n"
      ],
      "metadata": {
        "id": "0rWceir_4RT6"
      },
      "execution_count": 33,
      "outputs": []
    },
    {
      "cell_type": "code",
      "source": [
        "from pyspark.sql.functions import when\n",
        "\n",
        "# Categorize flights based on Distance\n",
        "processed_df = processed_df.withColumn(\n",
        "    \"DistanceCategory\",\n",
        "    when(col(\"Distance\") <= 500, \"Short-Haul\")\n",
        "    .when((col(\"Distance\") > 500) & (col(\"Distance\") <= 1500), \"Medium-Haul\")\n",
        "    .otherwise(\"Long-Haul\")\n",
        ")\n"
      ],
      "metadata": {
        "id": "__rsA9gI4U06"
      },
      "execution_count": 34,
      "outputs": []
    },
    {
      "cell_type": "code",
      "source": [
        "# Compute total taxi time\n",
        "processed_df = processed_df.withColumn(\"TaxiTime\", col(\"TaxiOut\") + col(\"TaxiIn\"))\n"
      ],
      "metadata": {
        "id": "XL5BPaww4Wvb"
      },
      "execution_count": 35,
      "outputs": []
    },
    {
      "cell_type": "code",
      "source": [
        "processed_df = processed_df.repartition(8)\n"
      ],
      "metadata": {
        "id": "5SUnNekA4aa2"
      },
      "execution_count": 36,
      "outputs": []
    },
    {
      "cell_type": "code",
      "source": [
        "processed_df.cache()\n"
      ],
      "metadata": {
        "colab": {
          "base_uri": "https://localhost:8080/",
          "height": 0
        },
        "id": "utg9loCd4dtJ",
        "outputId": "3ec47f3b-0bfc-45d0-fe4a-e67f574748d1"
      },
      "execution_count": 37,
      "outputs": [
        {
          "output_type": "execute_result",
          "data": {
            "text/plain": [
              "DataFrame[Year: bigint, Month: bigint, DayofMonth: bigint, FlightDate: date, Marketing_Airline_Network: string, OriginCityName: string, DestCityName: string, CRSDepTime: bigint, DepTime: double, DepDelay: double, DepDelayMinutes: double, TaxiOut: double, WheelsOff: double, WheelsOn: double, TaxiIn: double, CRSArrTime: bigint, ArrTime: double, ArrDelay: double, ArrDelayMinutes: double, CRSElapsedTime: double, ActualElapsedTime: double, AirTime: double, Distance: double, DistanceGroup: bigint, CarrierDelay: double, WeatherDelay: double, NASDelay: double, SecurityDelay: double, LateAircraftDelay: double, __index_level_0__: bigint, TotalDelay: double, CarrierName: string, Origin_City: string, Dest_City: string, Weekday: int, IsDelayed: boolean, DistanceCategory: string, TaxiTime: double]"
            ]
          },
          "metadata": {},
          "execution_count": 37
        }
      ]
    },
    {
      "cell_type": "markdown",
      "source": [
        "**trying** to analyze the processed data\n"
      ],
      "metadata": {
        "id": "pOXRDYLb6A70"
      }
    },
    {
      "cell_type": "code",
      "source": [
        "# Display schema\n",
        "processed_df.printSchema()\n",
        "\n",
        "# Show a sample of rows\n",
        "processed_df.show(10)\n"
      ],
      "metadata": {
        "colab": {
          "base_uri": "https://localhost:8080/",
          "height": 0
        },
        "id": "bahJ7fEW4dwj",
        "outputId": "8b8c9511-fb10-4761-bb56-d0393a109280"
      },
      "execution_count": 48,
      "outputs": [
        {
          "output_type": "stream",
          "name": "stdout",
          "text": [
            "root\n",
            " |-- Year: long (nullable = true)\n",
            " |-- Month: long (nullable = true)\n",
            " |-- DayofMonth: long (nullable = true)\n",
            " |-- FlightDate: date (nullable = true)\n",
            " |-- Marketing_Airline_Network: string (nullable = true)\n",
            " |-- OriginCityName: string (nullable = true)\n",
            " |-- DestCityName: string (nullable = true)\n",
            " |-- CRSDepTime: long (nullable = true)\n",
            " |-- DepTime: double (nullable = true)\n",
            " |-- DepDelay: double (nullable = true)\n",
            " |-- DepDelayMinutes: double (nullable = true)\n",
            " |-- TaxiOut: double (nullable = true)\n",
            " |-- WheelsOff: double (nullable = true)\n",
            " |-- WheelsOn: double (nullable = true)\n",
            " |-- TaxiIn: double (nullable = true)\n",
            " |-- CRSArrTime: long (nullable = true)\n",
            " |-- ArrTime: double (nullable = true)\n",
            " |-- ArrDelay: double (nullable = true)\n",
            " |-- ArrDelayMinutes: double (nullable = true)\n",
            " |-- CRSElapsedTime: double (nullable = true)\n",
            " |-- ActualElapsedTime: double (nullable = true)\n",
            " |-- AirTime: double (nullable = true)\n",
            " |-- Distance: double (nullable = true)\n",
            " |-- DistanceGroup: long (nullable = true)\n",
            " |-- CarrierDelay: double (nullable = true)\n",
            " |-- WeatherDelay: double (nullable = true)\n",
            " |-- NASDelay: double (nullable = true)\n",
            " |-- SecurityDelay: double (nullable = true)\n",
            " |-- LateAircraftDelay: double (nullable = true)\n",
            " |-- __index_level_0__: long (nullable = true)\n",
            " |-- TotalDelay: double (nullable = true)\n",
            " |-- CarrierName: string (nullable = false)\n",
            " |-- Origin_City: string (nullable = false)\n",
            " |-- Dest_City: string (nullable = false)\n",
            " |-- Weekday: integer (nullable = true)\n",
            " |-- IsDelayed: boolean (nullable = true)\n",
            " |-- DistanceCategory: string (nullable = false)\n",
            " |-- TaxiTime: double (nullable = true)\n",
            "\n",
            "+----+-----+----------+----------+-------------------------+--------------+--------------------+----------+-------+--------+---------------+-------+---------+--------+------+----------+-------+--------+---------------+--------------+-----------------+-------+--------+-------------+------------+------------+--------+-------------+-----------------+-----------------+----------+-----------------+-----------+---------+-------+---------+----------------+--------+\n",
            "|Year|Month|DayofMonth|FlightDate|Marketing_Airline_Network|OriginCityName|        DestCityName|CRSDepTime|DepTime|DepDelay|DepDelayMinutes|TaxiOut|WheelsOff|WheelsOn|TaxiIn|CRSArrTime|ArrTime|ArrDelay|ArrDelayMinutes|CRSElapsedTime|ActualElapsedTime|AirTime|Distance|DistanceGroup|CarrierDelay|WeatherDelay|NASDelay|SecurityDelay|LateAircraftDelay|__index_level_0__|TotalDelay|      CarrierName|Origin_City|Dest_City|Weekday|IsDelayed|DistanceCategory|TaxiTime|\n",
            "+----+-----+----------+----------+-------------------------+--------------+--------------------+----------+-------+--------+---------------+-------+---------+--------+------+----------+-------+--------+---------------+--------------+-----------------+-------+--------+-------------+------------+------------+--------+-------------+-----------------+-----------------+----------+-----------------+-----------+---------+-------+---------+----------------+--------+\n",
            "|2019|    7|        13|2019-07-13|                       DL|  New York, NY|      Wilmington, NC|       935|  926.0|    -9.0|            0.0|   15.0|    941.0|  1052.0|   9.0|      1133| 1101.0|   -32.0|            0.0|         118.0|             95.0|   71.0|   500.0|            3|         0.0|         0.0|     0.0|          0.0|              0.0|           104212|     -41.0|   Delta Airlines|    Unknown|  Unknown|      7|    false|      Short-Haul|    24.0|\n",
            "|2022|    6|        25|2022-06-25|                       F9|   Orlando, FL|      Cincinnati, OH|       916|  946.0|    30.0|           30.0|   55.0|   1041.0|  1234.0|   7.0|      1131| 1241.0|    70.0|           70.0|         135.0|            175.0|  113.0|   757.0|            4|         7.0|         0.0|    63.0|          0.0|              0.0|           229293|     100.0|          Unknown|    Unknown|  Unknown|      7|     true|     Medium-Haul|    62.0|\n",
            "|2020|    7|        31|2020-07-31|                       DL|   Atlanta, GA|      Charleston, SC|      1545| 1532.0|   -13.0|            0.0|   21.0|   1553.0|  1639.0|   3.0|      1650| 1642.0|    -8.0|            0.0|          65.0|             70.0|   46.0|   259.0|            2|         0.0|         0.0|     0.0|          0.0|              0.0|           336768|     -21.0|   Delta Airlines|    Unknown|  Unknown|      6|    false|      Short-Haul|    24.0|\n",
            "|2021|    8|        12|2021-08-12|                       DL|   Seattle, WA|           Sitka, AK|      2120| 2118.0|    -2.0|            0.0|   14.0|   2132.0|  2241.0|   4.0|      2247| 2245.0|    -2.0|            0.0|         147.0|            147.0|  129.0|   861.0|            4|         0.0|         0.0|     0.0|          0.0|              0.0|           216846|      -4.0|   Delta Airlines|    Unknown|  Unknown|      5|    false|     Medium-Haul|    18.0|\n",
            "|2020|    8|        21|2020-08-21|                       AA|    Albany, NY|    Philadelphia, PA|      1054| 1048.0|    -6.0|            0.0|   13.0|   1101.0|  1148.0|   8.0|      1158| 1156.0|    -2.0|            0.0|          64.0|             68.0|   47.0|   212.0|            1|         0.0|         0.0|     0.0|          0.0|              0.0|           198430|      -8.0|American Airlines|    Unknown|  Unknown|      6|    false|      Short-Haul|    21.0|\n",
            "|2019|    1|        23|2019-01-23|                       AA| Pensacola, FL|Dallas/Fort Worth...|      1919| 1941.0|    22.0|           22.0|   16.0|   1957.0|  2130.0|   8.0|      2122| 2138.0|    16.0|           16.0|         123.0|            117.0|   93.0|   604.0|            3|         0.0|         0.0|     0.0|          0.0|             16.0|           221956|      38.0|American Airlines|    Unknown|  Unknown|      4|     true|     Medium-Haul|    24.0|\n",
            "|2018|    3|        13|2018-03-13|                       UA|      Reno, NV|          Denver, CO|      1335| 1338.0|     3.0|            3.0|   11.0|   1349.0|  1632.0|   5.0|      1643| 1637.0|    -6.0|            0.0|         128.0|            119.0|  103.0|   804.0|            4|         0.0|         0.0|     0.0|          0.0|              0.0|            52635|      -3.0|  United Airlines|    Unknown|  Unknown|      3|    false|     Medium-Haul|    16.0|\n",
            "|2019|   11|         4|2019-11-04|                       UA| Baltimore, MD|          Denver, CO|      1545| 1557.0|    12.0|           12.0|   16.0|   1613.0|  1753.0|  10.0|      1746| 1803.0|    17.0|           17.0|         241.0|            246.0|  220.0|  1491.0|            6|        12.0|         0.0|     5.0|          0.0|              0.0|           242178|      29.0|  United Airlines|    Unknown|  Unknown|      2|     true|     Medium-Haul|    26.0|\n",
            "|2018|    6|        11|2018-06-11|                       UA|   Chicago, IL|       San Diego, CA|      1549| 1557.0|     8.0|            8.0|   28.0|   1625.0|  1807.0|   2.0|      1809| 1809.0|     0.0|            0.0|         260.0|            252.0|  222.0|  1723.0|            7|         0.0|         0.0|     0.0|          0.0|              0.0|            65193|       8.0|  United Airlines|    Unknown|  Unknown|      2|    false|       Long-Haul|    30.0|\n",
            "|2022|    6|        28|2022-06-28|                       AS|   Seattle, WA|         Spokane, WA|      1115| 1111.0|    -4.0|            0.0|   23.0|   1134.0|  1210.0|   3.0|      1227| 1213.0|   -14.0|            0.0|          72.0|             62.0|   36.0|   224.0|            1|         0.0|         0.0|     0.0|          0.0|              0.0|           571114|     -18.0|          Unknown|    Unknown|  Unknown|      3|    false|      Short-Haul|    26.0|\n",
            "+----+-----+----------+----------+-------------------------+--------------+--------------------+----------+-------+--------+---------------+-------+---------+--------+------+----------+-------+--------+---------------+--------------+-----------------+-------+--------+-------------+------------+------------+--------+-------------+-----------------+-----------------+----------+-----------------+-----------+---------+-------+---------+----------------+--------+\n",
            "only showing top 10 rows\n",
            "\n"
          ]
        }
      ]
    },
    {
      "cell_type": "code",
      "source": [
        "processed_df.select(\"FlightDate\").show(10)\n"
      ],
      "metadata": {
        "colab": {
          "base_uri": "https://localhost:8080/",
          "height": 0
        },
        "id": "n4J-tPd449eV",
        "outputId": "51b0f8e2-ad91-4773-821a-8ae9605abd59"
      },
      "execution_count": 39,
      "outputs": [
        {
          "output_type": "stream",
          "name": "stdout",
          "text": [
            "+----------+\n",
            "|FlightDate|\n",
            "+----------+\n",
            "|2019-07-13|\n",
            "|2022-06-25|\n",
            "|2020-07-31|\n",
            "|2021-08-12|\n",
            "|2020-08-21|\n",
            "|2019-01-23|\n",
            "|2018-03-13|\n",
            "|2019-11-04|\n",
            "|2018-06-11|\n",
            "|2022-06-28|\n",
            "+----------+\n",
            "only showing top 10 rows\n",
            "\n"
          ]
        }
      ]
    },
    {
      "cell_type": "code",
      "source": [
        "processed_df.select(\"DepDelay\", \"ArrDelay\", \"TotalDelay\").show(10)\n"
      ],
      "metadata": {
        "colab": {
          "base_uri": "https://localhost:8080/",
          "height": 0
        },
        "id": "Ehk4KUya49ha",
        "outputId": "81505188-b31d-41fa-eac2-408e260b4ec3"
      },
      "execution_count": 40,
      "outputs": [
        {
          "output_type": "stream",
          "name": "stdout",
          "text": [
            "+--------+--------+----------+\n",
            "|DepDelay|ArrDelay|TotalDelay|\n",
            "+--------+--------+----------+\n",
            "|    -9.0|   -32.0|     -41.0|\n",
            "|    30.0|    70.0|     100.0|\n",
            "|   -13.0|    -8.0|     -21.0|\n",
            "|    -2.0|    -2.0|      -4.0|\n",
            "|    -6.0|    -2.0|      -8.0|\n",
            "|    22.0|    16.0|      38.0|\n",
            "|     3.0|    -6.0|      -3.0|\n",
            "|    12.0|    17.0|      29.0|\n",
            "|     8.0|     0.0|       8.0|\n",
            "|    -4.0|   -14.0|     -18.0|\n",
            "+--------+--------+----------+\n",
            "only showing top 10 rows\n",
            "\n"
          ]
        }
      ]
    },
    {
      "cell_type": "code",
      "source": [
        "processed_df.select(\"OriginCityName\", \"Origin_City\", \"DestCityName\", \"Dest_City\").distinct().show(10)\n"
      ],
      "metadata": {
        "colab": {
          "base_uri": "https://localhost:8080/",
          "height": 0
        },
        "id": "i88N2JqV49kc",
        "outputId": "7d7c3f15-7e88-4451-d9b4-5c1d5bd9e4aa"
      },
      "execution_count": 41,
      "outputs": [
        {
          "output_type": "stream",
          "name": "stdout",
          "text": [
            "+-------------------+-----------+-------------------+---------+\n",
            "|     OriginCityName|Origin_City|       DestCityName|Dest_City|\n",
            "+-------------------+-----------+-------------------+---------+\n",
            "|   Philadelphia, PA|    Unknown|    Minneapolis, MN|  Unknown|\n",
            "|         Boston, MA|    Unknown|    Los Angeles, CA|  Unknown|\n",
            "|   Philadelphia, PA|    Unknown|        Phoenix, AZ|  Unknown|\n",
            "|   Philadelphia, PA|    Unknown|Charlottesville, VA|  Unknown|\n",
            "|   Philadelphia, PA|    Unknown|      St. Louis, MO|  Unknown|\n",
            "|       New York, NY|    Unknown|        Atlanta, GA|  Unknown|\n",
            "|        Houston, TX|    Unknown|    Kansas City, MO|  Unknown|\n",
            "|         Boston, MA|    Unknown|        Phoenix, AZ|  Unknown|\n",
            "|     Providence, RI|    Unknown|         Newark, NJ|  Unknown|\n",
            "|San Luis Obispo, CA|    Unknown|  San Francisco, CA|  Unknown|\n",
            "+-------------------+-----------+-------------------+---------+\n",
            "only showing top 10 rows\n",
            "\n"
          ]
        }
      ]
    },
    {
      "cell_type": "code",
      "source": [
        "# Weekday column validation\n",
        "processed_df.select(\"FlightDate\", \"Weekday\").show(10)\n",
        "\n",
        "# IsDelayed column validation\n",
        "processed_df.select(\"TotalDelay\", \"IsDelayed\").show(10)\n",
        "\n",
        "# DistanceCategory validation\n",
        "processed_df.select(\"Distance\", \"DistanceCategory\").show(10)\n"
      ],
      "metadata": {
        "colab": {
          "base_uri": "https://localhost:8080/",
          "height": 0
        },
        "id": "ZcpIfh4o49oJ",
        "outputId": "6e6b5ac5-c984-452c-b12a-ea099ce81a92"
      },
      "execution_count": 42,
      "outputs": [
        {
          "output_type": "stream",
          "name": "stdout",
          "text": [
            "+----------+-------+\n",
            "|FlightDate|Weekday|\n",
            "+----------+-------+\n",
            "|2019-07-13|      7|\n",
            "|2022-06-25|      7|\n",
            "|2020-07-31|      6|\n",
            "|2021-08-12|      5|\n",
            "|2020-08-21|      6|\n",
            "|2019-01-23|      4|\n",
            "|2018-03-13|      3|\n",
            "|2019-11-04|      2|\n",
            "|2018-06-11|      2|\n",
            "|2022-06-28|      3|\n",
            "+----------+-------+\n",
            "only showing top 10 rows\n",
            "\n",
            "+----------+---------+\n",
            "|TotalDelay|IsDelayed|\n",
            "+----------+---------+\n",
            "|     -41.0|    false|\n",
            "|     100.0|     true|\n",
            "|     -21.0|    false|\n",
            "|      -4.0|    false|\n",
            "|      -8.0|    false|\n",
            "|      38.0|     true|\n",
            "|      -3.0|    false|\n",
            "|      29.0|     true|\n",
            "|       8.0|    false|\n",
            "|     -18.0|    false|\n",
            "+----------+---------+\n",
            "only showing top 10 rows\n",
            "\n",
            "+--------+----------------+\n",
            "|Distance|DistanceCategory|\n",
            "+--------+----------------+\n",
            "|   500.0|      Short-Haul|\n",
            "|   757.0|     Medium-Haul|\n",
            "|   259.0|      Short-Haul|\n",
            "|   861.0|     Medium-Haul|\n",
            "|   212.0|      Short-Haul|\n",
            "|   604.0|     Medium-Haul|\n",
            "|   804.0|     Medium-Haul|\n",
            "|  1491.0|     Medium-Haul|\n",
            "|  1723.0|       Long-Haul|\n",
            "|   224.0|      Short-Haul|\n",
            "+--------+----------------+\n",
            "only showing top 10 rows\n",
            "\n"
          ]
        }
      ]
    },
    {
      "cell_type": "code",
      "source": [
        "processed_df.groupBy(\"CarrierName\").avg(\"TotalDelay\").orderBy(\"avg(TotalDelay)\", ascending=False).show()\n"
      ],
      "metadata": {
        "colab": {
          "base_uri": "https://localhost:8080/",
          "height": 0
        },
        "id": "Z27Guiur5bby",
        "outputId": "74a84fe2-7519-46dc-90d0-18c0402c7d94"
      },
      "execution_count": 43,
      "outputs": [
        {
          "output_type": "stream",
          "name": "stdout",
          "text": [
            "+------------------+------------------+\n",
            "|       CarrierName|   avg(TotalDelay)|\n",
            "+------------------+------------------+\n",
            "|   United Airlines|18.545540980720133|\n",
            "|           Unknown|16.446342990260973|\n",
            "| American Airlines|15.287568504894825|\n",
            "|Southwest Airlines|12.995481347310005|\n",
            "|    Delta Airlines| 8.628789862282034|\n",
            "+------------------+------------------+\n",
            "\n"
          ]
        }
      ]
    },
    {
      "cell_type": "code",
      "source": [],
      "metadata": {
        "id": "27irhl7hVCIH"
      },
      "execution_count": null,
      "outputs": []
    },
    {
      "cell_type": "code",
      "source": [
        "processed_df.groupBy(\"Origin_City\").count().orderBy(\"count\", ascending=False).show()\n"
      ],
      "metadata": {
        "colab": {
          "base_uri": "https://localhost:8080/",
          "height": 0
        },
        "id": "Jd5PUybL5hfc",
        "outputId": "dc04a856-b9d2-4c84-f215-6d6490c77754"
      },
      "execution_count": 44,
      "outputs": [
        {
          "output_type": "stream",
          "name": "stdout",
          "text": [
            "+-----------+------+\n",
            "|Origin_City| count|\n",
            "+-----------+------+\n",
            "|    Unknown|603055|\n",
            "+-----------+------+\n",
            "\n"
          ]
        }
      ]
    },
    {
      "cell_type": "code",
      "source": [
        "processed_df.groupBy(\"Weekday\").avg(\"TotalDelay\").orderBy(\"Weekday\").show()\n"
      ],
      "metadata": {
        "colab": {
          "base_uri": "https://localhost:8080/",
          "height": 0
        },
        "id": "LnmNdkkN5pe5",
        "outputId": "cdda9873-c2ec-405c-e66b-b1bd71969921"
      },
      "execution_count": 45,
      "outputs": [
        {
          "output_type": "stream",
          "name": "stdout",
          "text": [
            "+-------+------------------+\n",
            "|Weekday|   avg(TotalDelay)|\n",
            "+-------+------------------+\n",
            "|      1|16.156349478987746|\n",
            "|      2| 15.59985291987476|\n",
            "|      3| 10.13390276570247|\n",
            "|      4|10.703122276577696|\n",
            "|      5|17.118077241911855|\n",
            "|      6|17.177604833456865|\n",
            "|      7|12.130942881412649|\n",
            "+-------+------------------+\n",
            "\n"
          ]
        }
      ]
    },
    {
      "cell_type": "code",
      "source": [
        "processed_df.groupBy(\"DistanceCategory\").count().orderBy(\"count\", ascending=False).show()\n"
      ],
      "metadata": {
        "colab": {
          "base_uri": "https://localhost:8080/",
          "height": 0
        },
        "id": "bWFzROMg5s8Q",
        "outputId": "18e092c6-7910-4f86-d47d-6c323c61096e"
      },
      "execution_count": 46,
      "outputs": [
        {
          "output_type": "stream",
          "name": "stdout",
          "text": [
            "+----------------+------+\n",
            "|DistanceCategory| count|\n",
            "+----------------+------+\n",
            "|     Medium-Haul|297049|\n",
            "|      Short-Haul|238342|\n",
            "|       Long-Haul| 67664|\n",
            "+----------------+------+\n",
            "\n"
          ]
        }
      ]
    },
    {
      "cell_type": "code",
      "source": [],
      "metadata": {
        "id": "6_OTCU0VQQf7"
      },
      "execution_count": null,
      "outputs": []
    },
    {
      "cell_type": "code",
      "source": [
        "\n",
        "processed_df.write.parquet(\"processed_flight_data.parquet\")\n",
        "\n",
        "\n",
        "loaded_df = spark.read.parquet(\"processed_flight_data.parquet\")\n",
        "\n",
        "\n",
        "loaded_df.show(10)\n"
      ],
      "metadata": {
        "colab": {
          "base_uri": "https://localhost:8080/",
          "height": 0
        },
        "id": "BB8EtJYE52pa",
        "outputId": "ec4cd32b-87c4-4212-ea8e-3e78aef21e33"
      },
      "execution_count": 47,
      "outputs": [
        {
          "output_type": "stream",
          "name": "stdout",
          "text": [
            "+----+-----+----------+----------+-------------------------+-------------------+--------------------+----------+-------+--------+---------------+-------+---------+--------+------+----------+-------+--------+---------------+--------------+-----------------+-------+--------+-------------+------------+------------+--------+-------------+-----------------+-----------------+----------+-----------------+-----------+---------+-------+---------+----------------+--------+\n",
            "|Year|Month|DayofMonth|FlightDate|Marketing_Airline_Network|     OriginCityName|        DestCityName|CRSDepTime|DepTime|DepDelay|DepDelayMinutes|TaxiOut|WheelsOff|WheelsOn|TaxiIn|CRSArrTime|ArrTime|ArrDelay|ArrDelayMinutes|CRSElapsedTime|ActualElapsedTime|AirTime|Distance|DistanceGroup|CarrierDelay|WeatherDelay|NASDelay|SecurityDelay|LateAircraftDelay|__index_level_0__|TotalDelay|      CarrierName|Origin_City|Dest_City|Weekday|IsDelayed|DistanceCategory|TaxiTime|\n",
            "+----+-----+----------+----------+-------------------------+-------------------+--------------------+----------+-------+--------+---------------+-------+---------+--------+------+----------+-------+--------+---------------+--------------+-----------------+-------+--------+-------------+------------+------------+--------+-------------+-----------------+-----------------+----------+-----------------+-----------+---------+-------+---------+----------------+--------+\n",
            "|2019|   10|         4|2019-10-04|                       UA|  San Francisco, CA|         Chicago, IL|      1510| 1629.0|    79.0|           79.0|   35.0|   1704.0|  2226.0|  11.0|      2133| 2237.0|    64.0|           64.0|         263.0|            248.0|  202.0|  1846.0|            8|        64.0|         0.0|     0.0|          0.0|              0.0|           267571|     143.0|  United Airlines|    Unknown|  Unknown|      6|     true|       Long-Haul|    46.0|\n",
            "|2018|   11|         1|2018-11-01|                       UA|       Portland, OR|   San Francisco, CA|      1205| 1212.0|     7.0|            7.0|   18.0|   1230.0|  1349.0|   4.0|      1355| 1353.0|    -2.0|            0.0|         110.0|            101.0|   79.0|   550.0|            3|         0.0|         0.0|     0.0|          0.0|              0.0|           565504|       5.0|  United Airlines|    Unknown|  Unknown|      5|    false|     Medium-Haul|    22.0|\n",
            "|2020|    8|        16|2020-08-16|                       DL|     Fort Myers, FL|         Atlanta, GA|      1250| 1240.0|   -10.0|            0.0|   12.0|   1252.0|  1406.0|   9.0|      1429| 1415.0|   -14.0|            0.0|          99.0|             95.0|   74.0|   515.0|            3|         0.0|         0.0|     0.0|          0.0|              0.0|             4559|     -24.0|   Delta Airlines|    Unknown|  Unknown|      1|    false|     Medium-Haul|    21.0|\n",
            "|2021|   11|        28|2021-11-28|                       AA|      Charlotte, NC|Charleston/Dunbar...|       900|  852.0|    -8.0|            0.0|   27.0|    919.0|   959.0|   3.0|      1014| 1002.0|   -12.0|            0.0|          74.0|             70.0|   40.0|   221.0|            1|         0.0|         0.0|     0.0|          0.0|              0.0|           293367|     -20.0|American Airlines|    Unknown|  Unknown|      1|    false|      Short-Haul|    30.0|\n",
            "|2019|    2|         2|2019-02-02|                       NK|        Houston, TX|         Atlanta, GA|      2145| 2141.0|    -4.0|            0.0|   12.0|   2153.0|    16.0|   8.0|        39|   24.0|   -15.0|            0.0|         114.0|            103.0|   83.0|   689.0|            3|         0.0|         0.0|     0.0|          0.0|              0.0|            49079|     -19.0|          Unknown|    Unknown|  Unknown|      7|    false|     Medium-Haul|    20.0|\n",
            "|2019|   11|        18|2019-11-18|                       AA|   Philadelphia, PA|      Birmingham, AL|       800|  839.0|    39.0|           39.0|   49.0|    928.0|  1022.0|   4.0|       928| 1026.0|    58.0|           58.0|         148.0|            167.0|  114.0|   772.0|            4|        39.0|         0.0|    19.0|          0.0|              0.0|           651927|      97.0|American Airlines|    Unknown|  Unknown|      2|     true|     Medium-Haul|    53.0|\n",
            "|2021|    6|         4|2021-06-04|                       DL|     South Bend, IN|         Detroit, MI|      1737| 1733.0|    -4.0|            0.0|   12.0|   1745.0|  1820.0|   9.0|      1840| 1829.0|   -11.0|            0.0|          63.0|             56.0|   35.0|   157.0|            1|         0.0|         0.0|     0.0|          0.0|              0.0|           296700|     -15.0|   Delta Airlines|    Unknown|  Unknown|      6|    false|      Short-Haul|    21.0|\n",
            "|2019|    2|        28|2019-02-28|                       UA|      Las Vegas, NV|          Denver, CO|      1135| 1129.0|    -6.0|            0.0|   12.0|   1141.0|  1359.0|   5.0|      1425| 1404.0|   -21.0|            0.0|         110.0|             95.0|   78.0|   628.0|            3|         0.0|         0.0|     0.0|          0.0|              0.0|           319121|     -27.0|  United Airlines|    Unknown|  Unknown|      5|    false|     Medium-Haul|    17.0|\n",
            "|2022|    6|        16|2022-06-16|                       B6|Fort Lauderdale, FL|      Washington, DC|      1813| 1809.0|    -4.0|            0.0|   18.0|   1827.0|  2106.0|  52.0|      2059| 2158.0|    59.0|           59.0|         166.0|            229.0|  159.0|   899.0|            4|         0.0|         0.0|    59.0|          0.0|              0.0|           583854|      55.0|          Unknown|    Unknown|  Unknown|      5|     true|     Medium-Haul|    70.0|\n",
            "|2021|    6|         6|2021-06-06|                       DL|        Detroit, MI|Cedar Rapids/Iowa...|      1605| 1600.0|    -5.0|            0.0|   28.0|   1628.0|  1631.0|   9.0|      1646| 1640.0|    -6.0|            0.0|         101.0|            100.0|   63.0|   430.0|            2|         0.0|         0.0|     0.0|          0.0|              0.0|           308722|     -11.0|   Delta Airlines|    Unknown|  Unknown|      1|    false|      Short-Haul|    37.0|\n",
            "+----+-----+----------+----------+-------------------------+-------------------+--------------------+----------+-------+--------+---------------+-------+---------+--------+------+----------+-------+--------+---------------+--------------+-----------------+-------+--------+-------------+------------+------------+--------+-------------+-----------------+-----------------+----------+-----------------+-----------+---------+-------+---------+----------------+--------+\n",
            "only showing top 10 rows\n",
            "\n"
          ]
        }
      ]
    },
    {
      "cell_type": "code",
      "source": [
        "# Convert PySpark DataFrame to Pandas\n",
        "pandas_df = processed_df.toPandas()\n"
      ],
      "metadata": {
        "id": "ulhVeJEgVDxg"
      },
      "execution_count": null,
      "outputs": []
    },
    {
      "cell_type": "code",
      "source": [
        "import matplotlib.pyplot as plt\n",
        "import seaborn as sns\n",
        "\n",
        "# Average delay by airline\n",
        "avg_delay_by_airline = pandas_df.groupby('CarrierName')['TotalDelay'].mean().reset_index()\n",
        "\n",
        "# Plot\n",
        "plt.figure(figsize=(10, 6))\n",
        "sns.barplot(data=avg_delay_by_airline, x='CarrierName', y='TotalDelay', palette='viridis')\n",
        "plt.title('Average Total Delay by Airline')\n",
        "plt.ylabel('Average Delay (minutes)')\n",
        "plt.xlabel('Airline')\n",
        "plt.xticks(rotation=45)\n",
        "plt.show()\n"
      ],
      "metadata": {
        "id": "lTFWy0O3VHqE"
      },
      "execution_count": null,
      "outputs": []
    },
    {
      "cell_type": "code",
      "source": [
        "# Average delay by weekday\n",
        "avg_delay_by_weekday = pandas_df.groupby('Weekday')['TotalDelay'].mean().reset_index()\n",
        "\n",
        "# Plot\n",
        "plt.figure(figsize=(10, 6))\n",
        "sns.barplot(data=avg_delay_by_weekday, x='Weekday', y='TotalDelay', palette='coolwarm')\n",
        "plt.title('Average Total Delay by Day of the Week')\n",
        "plt.ylabel('Average Delay (minutes)')\n",
        "plt.xlabel('Weekday (1=Monday, 7=Sunday)')\n",
        "plt.show()\n"
      ],
      "metadata": {
        "id": "drtISXsbVJGW"
      },
      "execution_count": null,
      "outputs": []
    },
    {
      "cell_type": "code",
      "source": [
        "\n"
      ],
      "metadata": {
        "id": "CmNgPAulVM1a"
      },
      "execution_count": null,
      "outputs": []
    },
    {
      "cell_type": "code",
      "source": [],
      "metadata": {
        "id": "eFThNCv1VSB-"
      },
      "execution_count": null,
      "outputs": []
    }
  ]
}